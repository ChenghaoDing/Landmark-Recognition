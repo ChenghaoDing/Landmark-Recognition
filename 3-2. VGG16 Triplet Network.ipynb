{
 "cells": [
  {
   "cell_type": "code",
   "execution_count": 22,
   "metadata": {},
   "outputs": [],
   "source": [
    "import warnings\n",
    "warnings.simplefilter('ignore')\n",
    "\n",
    "import numpy as np\n",
    "import pandas as pd\n",
    "import matplotlib.pyplot as plt\n",
    "import tensorflow as tf\n",
    "import random, gc, keras, os, pickle\n",
    "\n",
    "from keras import backend as K\n",
    "from keras.preprocessing.image import load_img, img_to_array\n",
    "from keras.models import Sequential, load_model, Model\n",
    "from keras.layers import Dense, Dropout, Activation, Flatten, Input, Lambda\n",
    "from keras.callbacks import ModelCheckpoint, LearningRateScheduler, ReduceLROnPlateau\n",
    "from keras.applications.vgg16 import VGG16\n",
    "\n",
    "%matplotlib inline"
   ]
  },
  {
   "cell_type": "markdown",
   "metadata": {},
   "source": [
    "# Load Data"
   ]
  },
  {
   "cell_type": "code",
   "execution_count": 2,
   "metadata": {},
   "outputs": [
    {
     "name": "stdout",
     "output_type": "stream",
     "text": [
      "Train:\t\t (113783, 4)\n",
      "Validation:\t (22255, 4)\n",
      "Test:\t\t (22391, 4)\n",
      "\n",
      "Train Landmarks:\t 14943\n",
      "Validation Landmarks:\t 7674\n",
      "Test Landmarks:\t\t 14436\n"
     ]
    }
   ],
   "source": [
    "train_df = pd.read_csv('./data/triplet/train.csv')\n",
    "val_df = pd.read_csv('./data/triplet/validation.csv')\n",
    "test_df = pd.read_csv('./data/triplet/test.csv')\n",
    "\n",
    "print('Train:\\t\\t', train_df.shape)\n",
    "print('Validation:\\t', val_df.shape)\n",
    "print('Test:\\t\\t', test_df.shape)\n",
    "\n",
    "print('\\nTrain Landmarks:\\t', len(train_df['landmark_id'].unique()))\n",
    "print('Validation Landmarks:\\t', len(val_df['landmark_id'].unique()))\n",
    "print('Test Landmarks:\\t\\t', len(test_df['landmark_id'].unique()))"
   ]
  },
  {
   "cell_type": "code",
   "execution_count": 3,
   "metadata": {
    "scrolled": true
   },
   "outputs": [
    {
     "data": {
      "text/html": [
       "<div>\n",
       "<style scoped>\n",
       "    .dataframe tbody tr th:only-of-type {\n",
       "        vertical-align: middle;\n",
       "    }\n",
       "\n",
       "    .dataframe tbody tr th {\n",
       "        vertical-align: top;\n",
       "    }\n",
       "\n",
       "    .dataframe thead th {\n",
       "        text-align: right;\n",
       "    }\n",
       "</style>\n",
       "<table border=\"1\" class=\"dataframe\">\n",
       "  <thead>\n",
       "    <tr style=\"text-align: right;\">\n",
       "      <th></th>\n",
       "      <th>image_id</th>\n",
       "      <th>id</th>\n",
       "      <th>url</th>\n",
       "      <th>landmark_id</th>\n",
       "    </tr>\n",
       "  </thead>\n",
       "  <tbody>\n",
       "    <tr>\n",
       "      <th>0</th>\n",
       "      <td>465272</td>\n",
       "      <td>a2ccf8ed2e969f6a</td>\n",
       "      <td>https://lh4.googleusercontent.com/-TPHkS5gzvm4...</td>\n",
       "      <td>0</td>\n",
       "    </tr>\n",
       "    <tr>\n",
       "      <th>1</th>\n",
       "      <td>64516</td>\n",
       "      <td>e205ca7c8dd7c027</td>\n",
       "      <td>https://lh3.googleusercontent.com/-V3RjsZtGpxE...</td>\n",
       "      <td>0</td>\n",
       "    </tr>\n",
       "    <tr>\n",
       "      <th>2</th>\n",
       "      <td>928409</td>\n",
       "      <td>4e8ab93c1620e8a3</td>\n",
       "      <td>http://mw2.google.com/mw-panoramio/photos/medi...</td>\n",
       "      <td>0</td>\n",
       "    </tr>\n",
       "    <tr>\n",
       "      <th>3</th>\n",
       "      <td>88809</td>\n",
       "      <td>896bf928214d1ca4</td>\n",
       "      <td>http://lh5.ggpht.com/-Cy0l41uUaGA/R--yB8vy41I/...</td>\n",
       "      <td>0</td>\n",
       "    </tr>\n",
       "    <tr>\n",
       "      <th>4</th>\n",
       "      <td>1001133</td>\n",
       "      <td>375d2a153bdca926</td>\n",
       "      <td>http://lh6.ggpht.com/-UqzFpnqE9bU/S_0u1RovfdI/...</td>\n",
       "      <td>0</td>\n",
       "    </tr>\n",
       "  </tbody>\n",
       "</table>\n",
       "</div>"
      ],
      "text/plain": [
       "   image_id                id  \\\n",
       "0    465272  a2ccf8ed2e969f6a   \n",
       "1     64516  e205ca7c8dd7c027   \n",
       "2    928409  4e8ab93c1620e8a3   \n",
       "3     88809  896bf928214d1ca4   \n",
       "4   1001133  375d2a153bdca926   \n",
       "\n",
       "                                                 url  landmark_id  \n",
       "0  https://lh4.googleusercontent.com/-TPHkS5gzvm4...            0  \n",
       "1  https://lh3.googleusercontent.com/-V3RjsZtGpxE...            0  \n",
       "2  http://mw2.google.com/mw-panoramio/photos/medi...            0  \n",
       "3  http://lh5.ggpht.com/-Cy0l41uUaGA/R--yB8vy41I/...            0  \n",
       "4  http://lh6.ggpht.com/-UqzFpnqE9bU/S_0u1RovfdI/...            0  "
      ]
     },
     "execution_count": 3,
     "metadata": {},
     "output_type": "execute_result"
    }
   ],
   "source": [
    "train_df.head()"
   ]
  },
  {
   "cell_type": "markdown",
   "metadata": {},
   "source": [
    "# Helper Functions"
   ]
  },
  {
   "cell_type": "code",
   "execution_count": 4,
   "metadata": {},
   "outputs": [],
   "source": [
    "# training set triplet generator\n",
    "def train_triplet_generator(df, batch_size=74, img_size=(224, 224), seed=42, \n",
    "                            prefix='./data/triplet/train/'):\n",
    "    \"\"\" training set triplet generator\n",
    "        it will generate 7400 triplet images in total\n",
    "    \"\"\"\n",
    "    # get images with only one training image landmark id and the rest landmark ids\n",
    "    np.random.seed(seed)\n",
    "    grouped = df[['landmark_id', 'image_id']].groupby('landmark_id').count().reset_index()\n",
    "    unique_neg_ids = list(grouped[grouped['image_id'] == 1]['landmark_id'].values)\n",
    "    rest_ids = list(grouped[grouped['image_id'] > 1]['landmark_id'].values)\n",
    "    size = 7400 * 2 - len(unique_neg_ids) \n",
    "    zeros = np.zeros((batch_size, 3, 1), dtype=K.floatx())\n",
    "    \n",
    "    while True:\n",
    "        # get positive and negative image landmark ids\n",
    "        np.random.shuffle(rest_ids)\n",
    "        candidate_ids = list(np.random.choice(rest_ids, size=size, replace=False))\n",
    "        pos_landmark_ids = candidate_ids[:7400]\n",
    "        neg_landmark_ids = candidate_ids[7400:] + unique_neg_ids\n",
    "        np.random.shuffle(neg_landmark_ids)\n",
    "        \n",
    "        # transform landmark id into image id\n",
    "        anc_img_ids = []\n",
    "        pos_img_ids = []\n",
    "        neg_img_ids = []\n",
    "        \n",
    "        for i in range(len(pos_landmark_ids)):\n",
    "            tmp_pos_ids = df[df['landmark_id'] == pos_landmark_ids[i]]['image_id'].values\n",
    "            anc_img_ids.append(tmp_pos_ids[0])\n",
    "            pos_img_ids.append(tmp_pos_ids[1])\n",
    "            \n",
    "            tmp_neg_ids = df[df['landmark_id'] == neg_landmark_ids[i]]['image_id'].values\n",
    "            neg_img_ids.append(tmp_neg_ids[0])\n",
    "        \n",
    "        # iterator to read batch images\n",
    "        for j in range(len(pos_img_ids) // batch_size):\n",
    "            batch_anc_img_ids = anc_img_ids[j * batch_size: (j + 1) * batch_size]\n",
    "            batch_pos_img_ids = pos_img_ids[j * batch_size: (j + 1) * batch_size]\n",
    "            batch_neg_img_ids = neg_img_ids[j * batch_size: (j + 1) * batch_size]\n",
    "            \n",
    "            # get images\n",
    "            anc_imgs = []\n",
    "            pos_imgs = []\n",
    "            neg_imgs = []\n",
    "            \n",
    "            # iteratively read images\n",
    "            for k in range(batch_size):\n",
    "                anc_path = prefix + str(batch_anc_img_ids[k]) + '.jpg'\n",
    "                pos_path = prefix + str(batch_pos_img_ids[k]) + '.jpg'\n",
    "                neg_path = prefix + str(batch_neg_img_ids[k]) + '.jpg'\n",
    "                \n",
    "                tmp_anc_img = load_img(anc_path, target_size=img_size)\n",
    "                tmp_anc_img = img_to_array(tmp_anc_img)\n",
    "                anc_imgs.append(tmp_anc_img)\n",
    "                \n",
    "                tmp_pos_img = load_img(pos_path, target_size=img_size)\n",
    "                tmp_pos_img = img_to_array(tmp_pos_img)\n",
    "                pos_imgs.append(tmp_pos_img)\n",
    "                \n",
    "                tmp_neg_img = load_img(neg_path, target_size=img_size)\n",
    "                tmp_neg_img = img_to_array(tmp_neg_img)\n",
    "                neg_imgs.append(tmp_neg_img)\n",
    "        \n",
    "            # transform list to array\n",
    "            anc_imgs = np.array(anc_imgs, dtype=K.floatx()) / 255.0\n",
    "            pos_imgs = np.array(pos_imgs, dtype=K.floatx()) / 255.0\n",
    "            neg_imgs = np.array(neg_imgs, dtype=K.floatx()) / 255.0\n",
    "\n",
    "            yield [anc_imgs, pos_imgs, neg_imgs], zeros"
   ]
  },
  {
   "cell_type": "code",
   "execution_count": 5,
   "metadata": {},
   "outputs": [],
   "source": [
    "# validation set triplet generator\n",
    "def val_triplet_generator(df, batch_size=128, img_size=(224, 224), \n",
    "                          seed=42, prefix='./data/triplet/validation'):\n",
    "    \"\"\" validation set triplet collector \"\"\"\n",
    "    \n",
    "     # get images with only one image landmark id and the rest landmark ids\n",
    "    grouped = df[['landmark_id', 'image_id']].groupby('landmark_id').count().reset_index()\n",
    "    unique_neg_ids = list(grouped[grouped['image_id'] == 1]['landmark_id'].values)\n",
    "    rest_ids = list(grouped[grouped['image_id'] > 1]['landmark_id'].values)\n",
    "    size = 3072 * 2 - len(unique_neg_ids) \n",
    "    zeros = np.zeros((batch_size, 3, 1), dtype=K.floatx())\n",
    "    \n",
    "    while True:\n",
    "        # get positive and negative image landmark ids\n",
    "        np.random.seed(seed)\n",
    "        candidate_ids = list(np.random.choice(rest_ids, size=size, replace=False))\n",
    "        pos_landmark_ids = candidate_ids[:3072]\n",
    "        neg_landmark_ids = candidate_ids[3072:] + unique_neg_ids\n",
    "        np.random.shuffle(neg_landmark_ids)\n",
    "        \n",
    "        # transform landmark id into image id\n",
    "        anc_img_ids = []\n",
    "        pos_img_ids = []\n",
    "        neg_img_ids = []\n",
    "        \n",
    "        for i in range(len(pos_landmark_ids)):\n",
    "            tmp_pos_ids = df[df['landmark_id'] == pos_landmark_ids[i]]['image_id'].values\n",
    "            anc_img_ids.append(tmp_pos_ids[0])\n",
    "            pos_img_ids.append(tmp_pos_ids[1])\n",
    "            \n",
    "            tmp_neg_ids = df[df['landmark_id'] == neg_landmark_ids[i]]['image_id'].values\n",
    "            neg_img_ids.append(tmp_neg_ids[0])\n",
    "        \n",
    "        # iterator to read batch images\n",
    "        for j in range(len(pos_img_ids) // batch_size):\n",
    "            batch_anc_img_ids = anc_img_ids[j * batch_size: (j + 1) * batch_size]\n",
    "            batch_pos_img_ids = pos_img_ids[j * batch_size: (j + 1) * batch_size]\n",
    "            batch_neg_img_ids = neg_img_ids[j * batch_size: (j + 1) * batch_size]\n",
    "            \n",
    "            # get images\n",
    "            anc_imgs = []\n",
    "            pos_imgs = []\n",
    "            neg_imgs = []\n",
    "            \n",
    "            # iteratively read images\n",
    "            for k in range(batch_size):\n",
    "                anc_path = prefix + str(batch_anc_img_ids[k]) + '.jpg'\n",
    "                pos_path = prefix + str(batch_pos_img_ids[k]) + '.jpg'\n",
    "                neg_path = prefix + str(batch_neg_img_ids[k]) + '.jpg'\n",
    "                \n",
    "                tmp_anc_img = load_img(anc_path, target_size=img_size)\n",
    "                tmp_anc_img = img_to_array(tmp_anc_img)\n",
    "                anc_imgs.append(tmp_anc_img)\n",
    "                \n",
    "                tmp_pos_img = load_img(pos_path, target_size=img_size)\n",
    "                tmp_pos_img = img_to_array(tmp_pos_img)\n",
    "                pos_imgs.append(tmp_pos_img)\n",
    "                \n",
    "                tmp_neg_img = load_img(neg_path, target_size=img_size)\n",
    "                tmp_neg_img = img_to_array(tmp_neg_img)\n",
    "                neg_imgs.append(tmp_neg_img)\n",
    "        \n",
    "            # transform list to array\n",
    "            anc_imgs = np.array(anc_imgs, dtype=K.floatx()) / 255.0\n",
    "            pos_imgs = np.array(pos_imgs, dtype=K.floatx()) / 255.0\n",
    "            neg_imgs = np.array(neg_imgs, dtype=K.floatx()) / 255.0\n",
    "            \n",
    "            yield [anc_imgs, pos_imgs, neg_imgs], zeros"
   ]
  },
  {
   "cell_type": "markdown",
   "metadata": {},
   "source": [
    "# Define Triplet Loss Model"
   ]
  },
  {
   "cell_type": "code",
   "execution_count": 6,
   "metadata": {},
   "outputs": [],
   "source": [
    "# Define base network for triplet network\n",
    "def base_net(input_shape=(224, 224, 3), trainable=False):\n",
    "    \"\"\" define triplet network \"\"\"\n",
    "    # load pre-trained VGG16 model\n",
    "    vgg16 = VGG16(include_top=False, weights='imagenet', input_shape=input_shape)\n",
    "    vgg16.trainable = trainable\n",
    "    \n",
    "    # define sequential model\n",
    "    model = Sequential(name='base_net')\n",
    "    model.add(vgg16)\n",
    "    model.add(Flatten(name='flatten'))\n",
    "    model.add(Dropout(rate=0.5, name='dropout1'))\n",
    "    model.add(Dense(512, activation='relu', name='fc1'))\n",
    "    model.add(Dropout(rate=0.5, name='dropout2'))\n",
    "    model.add(Dense(128, activation=None, name='fc2'))\n",
    "    model.add(Lambda(lambda x: K.l2_normalize(x, axis=1), name='l2_norm'))\n",
    "    \n",
    "    return model"
   ]
  },
  {
   "cell_type": "code",
   "execution_count": 7,
   "metadata": {},
   "outputs": [],
   "source": [
    "# Define triplet network\n",
    "def triplet_net(base_model, input_shape=(224, 224, 3)):\n",
    "    \"\"\" function to define triplet networks \"\"\"\n",
    "    # define input: anchor, positive, negative\n",
    "    anchor = Input(shape=input_shape, name='anchor_input')\n",
    "    positive = Input(shape=input_shape, name='positive_input')\n",
    "    negative = Input(shape=input_shape, name='negative_input')\n",
    "    \n",
    "    # extract vector represent using CNN based model\n",
    "    anc_vec = base_model(anchor)\n",
    "    pos_vec = base_model(positive)\n",
    "    neg_vec = base_model(negative)\n",
    "    \n",
    "    # stack outputs\n",
    "    stacks = Lambda(lambda x: K.stack(x, axis=1), name='output')([anc_vec, pos_vec, neg_vec])\n",
    "\n",
    "    # define inputs and outputs\n",
    "    inputs=[anchor, positive, negative]\n",
    "    outputs = stacks\n",
    "    \n",
    "    # define the triplet model\n",
    "    model = Model(inputs=inputs, outputs=outputs, name='triplet_net')\n",
    "    \n",
    "    return model"
   ]
  },
  {
   "cell_type": "code",
   "execution_count": 8,
   "metadata": {},
   "outputs": [],
   "source": [
    "# Define triplet loss\n",
    "def triplet_loss(y_true, y_pred):\n",
    "    \"\"\" function to compute triplet loss\n",
    "        margin is predefined coded, manually change if needed\n",
    "    \"\"\"\n",
    "    # define triplet margin\n",
    "    margin = K.constant(0.3)\n",
    "    zero = K.constant(0.0)\n",
    "    \n",
    "    # get the prediction vector\n",
    "    anchor, positive, negative = y_pred[:, 0], y_pred[:, 1], y_pred[:, 2]\n",
    "    \n",
    "    # compute distance\n",
    "    pos_distance = K.sum(K.square(anchor - positive), axis=1)\n",
    "    neg_distance = K.sum(K.square(anchor - negative), axis=1)\n",
    "    \n",
    "    # compute loss\n",
    "    partial_loss = pos_distance - neg_distance + margin\n",
    "    full_loss = K.sum(K.maximum(partial_loss, zero), axis=0)\n",
    "    \n",
    "    return full_loss"
   ]
  },
  {
   "cell_type": "markdown",
   "metadata": {},
   "source": [
    "# Build Triplet Model"
   ]
  },
  {
   "cell_type": "code",
   "execution_count": 9,
   "metadata": {},
   "outputs": [],
   "source": [
    "# For reproduciable purpose\n",
    "seed = 42\n",
    "K.clear_session()\n",
    "os.environ['PYTHONHASHSEED'] = '0'\n",
    "np.random.seed(seed)\n",
    "random.seed(seed)\n",
    "session_conf = tf.ConfigProto(intra_op_parallelism_threads=1, inter_op_parallelism_threads=1)\n",
    "tf.set_random_seed(seed)\n",
    "sess = tf.Session(graph=tf.get_default_graph(), config=session_conf)\n",
    "K.set_session(sess)\n",
    "\n",
    "# Define Parameters\n",
    "img_size = (224, 224, 3)  # target image size\n",
    "\n",
    "# triplet image generator\n",
    "train_generator = train_triplet_generator(train_df, batch_size=74, img_size=img_size[:2], \n",
    "                                          seed=42, prefix='./data/triplet/train/')\n",
    "\n",
    "val_generator = val_triplet_generator(val_df, batch_size=64, img_size=img_size[:2], \n",
    "                                      seed=42, prefix='./data/triplet/validation/')"
   ]
  },
  {
   "cell_type": "code",
   "execution_count": 10,
   "metadata": {},
   "outputs": [
    {
     "name": "stdout",
     "output_type": "stream",
     "text": [
      "WARNING:tensorflow:From /home/ubuntu/anaconda3/envs/tensorflow_p36/lib/python3.6/site-packages/keras/backend/tensorflow_backend.py:3148: calling l2_normalize (from tensorflow.python.ops.nn_impl) with dim is deprecated and will be removed in a future version.\n",
      "Instructions for updating:\n",
      "dim is deprecated, use axis instead\n",
      "_________________________________________________________________\n",
      "Layer (type)                 Output Shape              Param #   \n",
      "=================================================================\n",
      "vgg16 (Model)                (None, 7, 7, 512)         14714688  \n",
      "_________________________________________________________________\n",
      "flatten (Flatten)            (None, 25088)             0         \n",
      "_________________________________________________________________\n",
      "dropout1 (Dropout)           (None, 25088)             0         \n",
      "_________________________________________________________________\n",
      "fc1 (Dense)                  (None, 512)               12845568  \n",
      "_________________________________________________________________\n",
      "dropout2 (Dropout)           (None, 512)               0         \n",
      "_________________________________________________________________\n",
      "fc2 (Dense)                  (None, 128)               65664     \n",
      "_________________________________________________________________\n",
      "l2_norm (Lambda)             (None, 128)               0         \n",
      "=================================================================\n",
      "Total params: 27,625,920\n",
      "Trainable params: 12,911,232\n",
      "Non-trainable params: 14,714,688\n",
      "_________________________________________________________________\n"
     ]
    }
   ],
   "source": [
    "# Define triplet network model\n",
    "base_model = base_net(input_shape=img_size, trainable=False)\n",
    "base_model.summary()"
   ]
  },
  {
   "cell_type": "code",
   "execution_count": 11,
   "metadata": {},
   "outputs": [
    {
     "name": "stdout",
     "output_type": "stream",
     "text": [
      "__________________________________________________________________________________________________\n",
      "Layer (type)                    Output Shape         Param #     Connected to                     \n",
      "==================================================================================================\n",
      "anchor_input (InputLayer)       (None, 224, 224, 3)  0                                            \n",
      "__________________________________________________________________________________________________\n",
      "positive_input (InputLayer)     (None, 224, 224, 3)  0                                            \n",
      "__________________________________________________________________________________________________\n",
      "negative_input (InputLayer)     (None, 224, 224, 3)  0                                            \n",
      "__________________________________________________________________________________________________\n",
      "base_net (Sequential)           (None, 128)          27625920    anchor_input[0][0]               \n",
      "                                                                 positive_input[0][0]             \n",
      "                                                                 negative_input[0][0]             \n",
      "__________________________________________________________________________________________________\n",
      "output (Lambda)                 (None, 3, 128)       0           base_net[1][0]                   \n",
      "                                                                 base_net[2][0]                   \n",
      "                                                                 base_net[3][0]                   \n",
      "==================================================================================================\n",
      "Total params: 27,625,920\n",
      "Trainable params: 12,911,232\n",
      "Non-trainable params: 14,714,688\n",
      "__________________________________________________________________________________________________\n"
     ]
    }
   ],
   "source": [
    "triplet_model = triplet_net(base_model=base_model, input_shape=img_size)\n",
    "triplet_model.summary()"
   ]
  },
  {
   "cell_type": "code",
   "execution_count": 12,
   "metadata": {},
   "outputs": [
    {
     "name": "stdout",
     "output_type": "stream",
     "text": [
      "Learning rate:  0.001\n"
     ]
    }
   ],
   "source": [
    "# define learning scheduler\n",
    "def lr_schedule(epoch):\n",
    "    \"\"\" Learning rate schedule \"\"\"\n",
    "    lr = 1e-3\n",
    "    if epoch > 80:\n",
    "        lr *= 6e-1\n",
    "    elif epoch > 60:\n",
    "        lr *= 7e-1\n",
    "    elif epoch > 40:\n",
    "        lr *= 8e-1\n",
    "    elif epoch > 20:\n",
    "        lr *= 9e-1\n",
    "    print('Learning rate: ', lr)\n",
    "    return lr\n",
    "\n",
    "# define optimizer\n",
    "opt = keras.optimizers.Adam(lr=lr_schedule(0))\n",
    "\n",
    "# Create call backs\n",
    "checkpoint = ModelCheckpoint(filepath='./models/vgg16-triplet-ckpt.h5', \n",
    "                             monitor='val_loss', save_best_only=True)\n",
    "lr_scheduler = LearningRateScheduler(lr_schedule)\n",
    "lr_reducer = ReduceLROnPlateau(factor=np.sqrt(0.1), cooldown=0, patience=5, min_lr=0.5e-6)\n",
    "callbacks = [checkpoint, lr_reducer, lr_scheduler]\n",
    "\n",
    "# compile the model\n",
    "triplet_model.compile(optimizer=opt, loss=triplet_loss)"
   ]
  },
  {
   "cell_type": "code",
   "execution_count": 13,
   "metadata": {
    "scrolled": false
   },
   "outputs": [
    {
     "data": {
      "text/plain": [
       "(6, 224, 224, 3)"
      ]
     },
     "execution_count": 13,
     "metadata": {},
     "output_type": "execute_result"
    }
   ],
   "source": [
    "# Get test images\n",
    "test_imgs = []\n",
    "img_size = (224, 224, 3)\n",
    "\n",
    "for idx in [928409, 326906, 402868, 510182, 887421, 712654]:\n",
    "    path = './data/triplet/train/' + str(idx) + '.jpg'\n",
    "    img = load_img(path, target_size=img_size[:2])\n",
    "    img = img_to_array(img)\n",
    "    test_imgs.append(img)\n",
    "    \n",
    "test_imgs = np.array(test_imgs, dtype=K.floatx()) / 255.0\n",
    "\n",
    "test_imgs.shape"
   ]
  },
  {
   "cell_type": "code",
   "execution_count": 14,
   "metadata": {},
   "outputs": [
    {
     "data": {
      "text/plain": [
       "array([[ 0.0321782 , -0.08320667, -0.13525167,  0.03581691, -0.05905963],\n",
       "       [ 0.02351986, -0.05984264, -0.04396465,  0.06975406, -0.09328114],\n",
       "       [ 0.02946164, -0.11696196, -0.06337551, -0.00073867, -0.14152323],\n",
       "       [ 0.06182857, -0.13018076, -0.06173621,  0.0286214 , -0.0967707 ],\n",
       "       [ 0.03753435, -0.13208686, -0.07133354,  0.02561435, -0.08086295],\n",
       "       [ 0.03927115, -0.03180923, -0.06210475,  0.01394464, -0.06282669]],\n",
       "      dtype=float32)"
      ]
     },
     "execution_count": 14,
     "metadata": {},
     "output_type": "execute_result"
    }
   ],
   "source": [
    "base_prediction = base_model.predict(test_imgs)\n",
    "\n",
    "base_prediction[:, :5]"
   ]
  },
  {
   "cell_type": "code",
   "execution_count": 15,
   "metadata": {},
   "outputs": [
    {
     "data": {
      "text/plain": [
       "[[0.0, 0.46929964, 0.40683421, 0.42562312, 0.40515217, 0.4384109],\n",
       " [0.46929964, 0.0, 0.48677304, 0.53403443, 0.51773584, 0.5144023],\n",
       " [0.40683421, 0.48677304, 0.0, 0.25214472, 0.4138704, 0.48563388],\n",
       " [0.42562312, 0.53403443, 0.25214472, 0.0, 0.42998376, 0.48380202],\n",
       " [0.40515217, 0.51773584, 0.4138704, 0.42998376, 0.0, 0.47988746],\n",
       " [0.4384109, 0.5144023, 0.48563388, 0.48380202, 0.47988746, 0.0]]"
      ]
     },
     "execution_count": 15,
     "metadata": {},
     "output_type": "execute_result"
    }
   ],
   "source": [
    "distance = [[0 for j in range(6)] for i in range(6)]\n",
    "for i in range(6):\n",
    "    ref = base_prediction[i]\n",
    "    for j in range(6):\n",
    "        new_img = base_prediction[j]\n",
    "        dist = np.sqrt(np.sum((new_img - ref) ** 2))\n",
    "        distance[i][j] = dist\n",
    "distance"
   ]
  },
  {
   "cell_type": "code",
   "execution_count": 16,
   "metadata": {},
   "outputs": [
    {
     "data": {
      "image/png": "[encoded data removed]",
      "text/plain": [
       "<Figure size 504x432 with 2 Axes>"
      ]
     },
     "metadata": {},
     "output_type": "display_data"
    }
   ],
   "source": [
    "plt.figure(figsize=(7, 6))\n",
    "plt.imshow(distance)\n",
    "plt.colorbar()\n",
    "plt.show()"
   ]
  },
  {
   "cell_type": "markdown",
   "metadata": {},
   "source": [
    "# Fit Triplet Model"
   ]
  },
  {
   "cell_type": "code",
   "execution_count": 17,
   "metadata": {
    "scrolled": true
   },
   "outputs": [
    {
     "name": "stdout",
     "output_type": "stream",
     "text": [
      "Epoch 1/100\n",
      "Learning rate:  0.001\n",
      " - 71s - loss: 15.2967 - val_loss: 9.3219\n",
      "Epoch 2/100\n",
      "Learning rate:  0.001\n",
      " - 55s - loss: 10.4090 - val_loss: 7.9923\n",
      "Epoch 3/100\n",
      "Learning rate:  0.001\n",
      " - 55s - loss: 8.9269 - val_loss: 7.0797\n",
      "Epoch 4/100\n",
      "Learning rate:  0.001\n",
      " - 55s - loss: 8.8685 - val_loss: 6.5347\n",
      "Epoch 5/100\n",
      "Learning rate:  0.001\n",
      " - 55s - loss: 7.9042 - val_loss: 6.4954\n",
      "Epoch 6/100\n",
      "Learning rate:  0.001\n",
      " - 56s - loss: 7.5312 - val_loss: 6.3660\n",
      "Epoch 7/100\n",
      "Learning rate:  0.001\n",
      " - 55s - loss: 7.1771 - val_loss: 6.2353\n",
      "Epoch 8/100\n",
      "Learning rate:  0.001\n",
      " - 55s - loss: 6.9262 - val_loss: 6.1721\n",
      "Epoch 9/100\n",
      "Learning rate:  0.001\n",
      " - 55s - loss: 6.7460 - val_loss: 6.2818\n",
      "Epoch 10/100\n",
      "Learning rate:  0.001\n",
      " - 55s - loss: 6.3988 - val_loss: 5.7756\n",
      "Epoch 11/100\n",
      "Learning rate:  0.001\n",
      " - 55s - loss: 6.3960 - val_loss: 5.8020\n",
      "Epoch 12/100\n",
      "Learning rate:  0.001\n",
      " - 55s - loss: 6.1451 - val_loss: 5.8939\n",
      "Epoch 13/100\n",
      "Learning rate:  0.001\n",
      " - 55s - loss: 6.1043 - val_loss: 5.7205\n",
      "Epoch 14/100\n",
      "Learning rate:  0.001\n",
      " - 55s - loss: 5.9951 - val_loss: 5.7166\n",
      "Epoch 15/100\n",
      "Learning rate:  0.001\n",
      " - 55s - loss: 5.6391 - val_loss: 5.6286\n",
      "Epoch 16/100\n",
      "Learning rate:  0.001\n",
      " - 55s - loss: 5.6398 - val_loss: 5.3398\n",
      "Epoch 17/100\n",
      "Learning rate:  0.001\n",
      " - 55s - loss: 5.4298 - val_loss: 5.2966\n",
      "Epoch 18/100\n",
      "Learning rate:  0.001\n",
      " - 55s - loss: 5.4149 - val_loss: 5.3106\n",
      "Epoch 19/100\n",
      "Learning rate:  0.001\n",
      " - 55s - loss: 5.1294 - val_loss: 5.1412\n",
      "Epoch 20/100\n",
      "Learning rate:  0.001\n",
      " - 55s - loss: 5.3428 - val_loss: 5.0220\n",
      "Epoch 21/100\n",
      "Learning rate:  0.001\n",
      " - 55s - loss: 4.9729 - val_loss: 5.3305\n",
      "Epoch 22/100\n",
      "Learning rate:  0.0009000000000000001\n",
      " - 55s - loss: 5.1428 - val_loss: 5.0272\n",
      "Epoch 23/100\n",
      "Learning rate:  0.0009000000000000001\n",
      " - 55s - loss: 5.0714 - val_loss: 5.1416\n",
      "Epoch 24/100\n",
      "Learning rate:  0.0009000000000000001\n",
      " - 55s - loss: 4.9078 - val_loss: 5.2472\n",
      "Epoch 25/100\n",
      "Learning rate:  0.0009000000000000001\n",
      " - 55s - loss: 4.7902 - val_loss: 5.0373\n",
      "Epoch 26/100\n",
      "Learning rate:  0.0009000000000000001\n",
      " - 55s - loss: 4.8510 - val_loss: 5.0156\n",
      "Epoch 27/100\n",
      "Learning rate:  0.0009000000000000001\n",
      " - 55s - loss: 4.7280 - val_loss: 4.9994\n",
      "Epoch 28/100\n",
      "Learning rate:  0.0009000000000000001\n",
      " - 55s - loss: 4.4647 - val_loss: 4.9814\n",
      "Epoch 29/100\n",
      "Learning rate:  0.0009000000000000001\n",
      " - 55s - loss: 4.6974 - val_loss: 4.8516\n",
      "Epoch 30/100\n",
      "Learning rate:  0.0009000000000000001\n",
      " - 55s - loss: 4.7565 - val_loss: 4.7616\n",
      "Epoch 31/100\n",
      "Learning rate:  0.0009000000000000001\n",
      " - 55s - loss: 4.5306 - val_loss: 4.7257\n",
      "Epoch 32/100\n",
      "Learning rate:  0.0009000000000000001\n",
      " - 55s - loss: 4.3626 - val_loss: 4.7815\n",
      "Epoch 33/100\n",
      "Learning rate:  0.0009000000000000001\n",
      " - 55s - loss: 4.4474 - val_loss: 4.8370\n",
      "Epoch 34/100\n",
      "Learning rate:  0.0009000000000000001\n",
      " - 55s - loss: 4.2513 - val_loss: 4.8616\n",
      "Epoch 35/100\n",
      "Learning rate:  0.0009000000000000001\n",
      " - 55s - loss: 4.4088 - val_loss: 4.6831\n",
      "Epoch 36/100\n",
      "Learning rate:  0.0009000000000000001\n",
      " - 55s - loss: 4.2378 - val_loss: 4.7612\n",
      "Epoch 37/100\n",
      "Learning rate:  0.0009000000000000001\n",
      " - 55s - loss: 4.1900 - val_loss: 5.0015\n",
      "Epoch 38/100\n",
      "Learning rate:  0.0009000000000000001\n",
      " - 55s - loss: 4.4720 - val_loss: 4.8429\n",
      "Epoch 39/100\n",
      "Learning rate:  0.0009000000000000001\n",
      " - 55s - loss: 4.2335 - val_loss: 5.0209\n",
      "Epoch 40/100\n",
      "Learning rate:  0.0009000000000000001\n",
      " - 55s - loss: 4.1163 - val_loss: 4.6838\n",
      "Epoch 41/100\n",
      "Learning rate:  0.0009000000000000001\n",
      " - 55s - loss: 4.1026 - val_loss: 4.7460\n",
      "Epoch 42/100\n",
      "Learning rate:  0.0008\n",
      " - 55s - loss: 3.7952 - val_loss: 4.7142\n",
      "Epoch 43/100\n",
      "Learning rate:  0.0008\n",
      " - 55s - loss: 3.9474 - val_loss: 4.8547\n",
      "Epoch 44/100\n",
      "Learning rate:  0.0008\n",
      " - 55s - loss: 4.0663 - val_loss: 4.7825\n",
      "Epoch 45/100\n",
      "Learning rate:  0.0008\n",
      " - 55s - loss: 3.8212 - val_loss: 4.6067\n",
      "Epoch 46/100\n",
      "Learning rate:  0.0008\n",
      " - 55s - loss: 3.6886 - val_loss: 4.5856\n",
      "Epoch 47/100\n",
      "Learning rate:  0.0008\n",
      " - 55s - loss: 3.8544 - val_loss: 4.7875\n",
      "Epoch 48/100\n",
      "Learning rate:  0.0008\n",
      " - 55s - loss: 3.6527 - val_loss: 4.6065\n",
      "Epoch 49/100\n",
      "Learning rate:  0.0008\n",
      " - 55s - loss: 3.8816 - val_loss: 4.5637\n",
      "Epoch 50/100\n",
      "Learning rate:  0.0008\n",
      " - 55s - loss: 3.8980 - val_loss: 4.7707\n",
      "Epoch 51/100\n",
      "Learning rate:  0.0008\n",
      " - 55s - loss: 3.5543 - val_loss: 4.5143\n",
      "Epoch 52/100\n",
      "Learning rate:  0.0008\n",
      " - 55s - loss: 3.6123 - val_loss: 4.5651\n",
      "Epoch 53/100\n",
      "Learning rate:  0.0008\n",
      " - 55s - loss: 3.7260 - val_loss: 4.5030\n",
      "Epoch 54/100\n",
      "Learning rate:  0.0008\n",
      " - 55s - loss: 3.5775 - val_loss: 4.5038\n",
      "Epoch 55/100\n",
      "Learning rate:  0.0008\n",
      " - 55s - loss: 3.3393 - val_loss: 4.5686\n",
      "Epoch 56/100\n",
      "Learning rate:  0.0008\n",
      " - 55s - loss: 3.4202 - val_loss: 4.3649\n",
      "Epoch 57/100\n",
      "Learning rate:  0.0008\n",
      " - 55s - loss: 3.4916 - val_loss: 4.3395\n",
      "Epoch 58/100\n",
      "Learning rate:  0.0008\n",
      " - 55s - loss: 3.3915 - val_loss: 4.4762\n",
      "Epoch 59/100\n",
      "Learning rate:  0.0008\n",
      " - 55s - loss: 3.4499 - val_loss: 4.5275\n",
      "Epoch 60/100\n",
      "Learning rate:  0.0008\n",
      " - 55s - loss: 3.4153 - val_loss: 4.3995\n",
      "Epoch 61/100\n",
      "Learning rate:  0.0008\n",
      " - 55s - loss: 3.5186 - val_loss: 4.4034\n",
      "Epoch 62/100\n",
      "Learning rate:  0.0007\n",
      " - 55s - loss: 3.1324 - val_loss: 4.4963\n",
      "Epoch 63/100\n",
      "Learning rate:  0.0007\n",
      " - 55s - loss: 3.3504 - val_loss: 4.5144\n",
      "Epoch 64/100\n",
      "Learning rate:  0.0007\n",
      " - 55s - loss: 3.3199 - val_loss: 4.5134\n",
      "Epoch 65/100\n",
      "Learning rate:  0.0007\n",
      " - 55s - loss: 3.5521 - val_loss: 4.4080\n",
      "Epoch 66/100\n",
      "Learning rate:  0.0007\n",
      " - 55s - loss: 3.0816 - val_loss: 4.2424\n",
      "Epoch 67/100\n",
      "Learning rate:  0.0007\n",
      " - 55s - loss: 3.0224 - val_loss: 4.4378\n",
      "Epoch 68/100\n",
      "Learning rate:  0.0007\n",
      " - 55s - loss: 3.0501 - val_loss: 4.5576\n",
      "Epoch 69/100\n",
      "Learning rate:  0.0007\n",
      " - 55s - loss: 3.2102 - val_loss: 4.4403\n",
      "Epoch 70/100\n",
      "Learning rate:  0.0007\n",
      " - 55s - loss: 3.1333 - val_loss: 4.2910\n",
      "Epoch 71/100\n",
      "Learning rate:  0.0007\n",
      " - 55s - loss: 3.2892 - val_loss: 4.2708\n",
      "Epoch 72/100\n",
      "Learning rate:  0.0007\n",
      " - 55s - loss: 3.1067 - val_loss: 4.4351\n",
      "Epoch 73/100\n",
      "Learning rate:  0.0007\n",
      " - 55s - loss: 2.8000 - val_loss: 4.4994\n",
      "Epoch 74/100\n",
      "Learning rate:  0.0007\n",
      " - 55s - loss: 3.2960 - val_loss: 4.3596\n",
      "Epoch 75/100\n",
      "Learning rate:  0.0007\n",
      " - 55s - loss: 3.1293 - val_loss: 4.4289\n",
      "Epoch 76/100\n",
      "Learning rate:  0.0007\n",
      " - 55s - loss: 2.8923 - val_loss: 4.3710\n",
      "Epoch 77/100\n",
      "Learning rate:  0.0007\n",
      " - 55s - loss: 3.0662 - val_loss: 4.6178\n",
      "Epoch 78/100\n",
      "Learning rate:  0.0007\n",
      " - 56s - loss: 3.0422 - val_loss: 4.1169\n",
      "Epoch 79/100\n",
      "Learning rate:  0.0007\n",
      " - 55s - loss: 2.9979 - val_loss: 4.2790\n",
      "Epoch 80/100\n",
      "Learning rate:  0.0007\n",
      " - 55s - loss: 3.0052 - val_loss: 4.2519\n",
      "Epoch 81/100\n",
      "Learning rate:  0.0007\n",
      " - 55s - loss: 2.8103 - val_loss: 4.2428\n",
      "Epoch 82/100\n",
      "Learning rate:  0.0006\n",
      " - 55s - loss: 2.8061 - val_loss: 4.2343\n",
      "Epoch 83/100\n",
      "Learning rate:  0.0006\n",
      " - 55s - loss: 2.8829 - val_loss: 4.1464\n",
      "Epoch 84/100\n",
      "Learning rate:  0.0006\n",
      " - 55s - loss: 2.8663 - val_loss: 4.3715\n",
      "Epoch 85/100\n",
      "Learning rate:  0.0006\n",
      " - 55s - loss: 2.8524 - val_loss: 4.3384\n",
      "Epoch 86/100\n",
      "Learning rate:  0.0006\n",
      " - 55s - loss: 2.8859 - val_loss: 4.3681\n",
      "Epoch 87/100\n",
      "Learning rate:  0.0006\n",
      " - 55s - loss: 2.7851 - val_loss: 4.4554\n",
      "Epoch 88/100\n",
      "Learning rate:  0.0006\n",
      " - 55s - loss: 2.6477 - val_loss: 4.4114\n",
      "Epoch 89/100\n",
      "Learning rate:  0.0006\n",
      " - 55s - loss: 2.9363 - val_loss: 4.0915\n",
      "Epoch 90/100\n",
      "Learning rate:  0.0006\n",
      " - 56s - loss: 2.6817 - val_loss: 4.1956\n",
      "Epoch 91/100\n",
      "Learning rate:  0.0006\n",
      " - 55s - loss: 2.8986 - val_loss: 4.3327\n",
      "Epoch 92/100\n",
      "Learning rate:  0.0006\n",
      " - 55s - loss: 2.7543 - val_loss: 4.1571\n",
      "Epoch 93/100\n",
      "Learning rate:  0.0006\n",
      " - 55s - loss: 2.7359 - val_loss: 4.2361\n",
      "Epoch 94/100\n",
      "Learning rate:  0.0006\n",
      " - 55s - loss: 2.6279 - val_loss: 4.1698\n",
      "Epoch 95/100\n",
      "Learning rate:  0.0006\n",
      " - 55s - loss: 2.7314 - val_loss: 4.1390\n",
      "Epoch 96/100\n",
      "Learning rate:  0.0006\n",
      " - 55s - loss: 2.7195 - val_loss: 4.2619\n",
      "Epoch 97/100\n",
      "Learning rate:  0.0006\n",
      " - 55s - loss: 2.7217 - val_loss: 4.3034\n",
      "Epoch 98/100\n",
      "Learning rate:  0.0006\n",
      " - 55s - loss: 2.6374 - val_loss: 4.3596\n",
      "Epoch 99/100\n",
      "Learning rate:  0.0006\n",
      " - 55s - loss: 2.7137 - val_loss: 4.2912\n",
      "Epoch 100/100\n",
      "Learning rate:  0.0006\n",
      " - 55s - loss: 2.6999 - val_loss: 4.3345\n"
     ]
    }
   ],
   "source": [
    "# fit the mode\n",
    "history = triplet_model.fit_generator(train_generator, steps_per_epoch=100, epochs=100, \n",
    "                                      validation_data=val_generator, validation_steps=48, \n",
    "                                      verbose=2, callbacks=callbacks)\n",
    "\n",
    "triplet_model.save('./models/vgg16-triplet-model.h5')\n",
    "base_model.save('./models/vgg16-base-model.h5')\n",
    "pickle.dump(history.history, open('./models/vgg16-triplet-history.p', 'wb'))\n",
    "_ = gc.collect()"
   ]
  },
  {
   "cell_type": "code",
   "execution_count": 18,
   "metadata": {},
   "outputs": [
    {
     "data": {
      "image/png": "[encoded data removed]",
      "text/plain": [
       "<Figure size 720x504 with 1 Axes>"
      ]
     },
     "metadata": {},
     "output_type": "display_data"
    }
   ],
   "source": [
    "# Visualize the training process\n",
    "train_loss = history.history['loss']\n",
    "val_loss = history.history['val_loss']\n",
    "\n",
    "fig, ax = plt.subplots(figsize=(10, 7))\n",
    "ax.plot(train_loss, label='Training Loss')\n",
    "ax.plot(val_loss, label='Validation Loss')\n",
    "ax.set_title('Loss vs. Epochs', fontsize=16)\n",
    "ax.set_xlabel('Epochs', fontsize=14)\n",
    "ax.set_ylabel('Loss', fontsize=14)\n",
    "ax.legend(fontsize=14)\n",
    "ax.grid(True)\n",
    "plt.show()"
   ]
  },
  {
   "cell_type": "code",
   "execution_count": 19,
   "metadata": {},
   "outputs": [
    {
     "data": {
      "text/plain": [
       "array([[-0.05204168, -0.04928965, -0.04429075, -0.06775405, -0.09017675],\n",
       "       [ 0.07004348, -0.09718073, -0.07342856, -0.01925   , -0.00947828],\n",
       "       [-0.05374754, -0.08788349, -0.0246839 , -0.11963715, -0.04027959],\n",
       "       [-0.04935692, -0.09970418, -0.02753427, -0.09216522, -0.04490408],\n",
       "       [ 0.01081617, -0.05863011, -0.11062964, -0.11530276, -0.05510683],\n",
       "       [ 0.01996107, -0.02432392, -0.08500482, -0.02948823, -0.02638644]],\n",
       "      dtype=float32)"
      ]
     },
     "execution_count": 19,
     "metadata": {},
     "output_type": "execute_result"
    }
   ],
   "source": [
    "base_prediction = base_model.predict(test_imgs)\n",
    "\n",
    "base_prediction[:, :5]"
   ]
  },
  {
   "cell_type": "code",
   "execution_count": 20,
   "metadata": {},
   "outputs": [
    {
     "data": {
      "text/plain": [
       "[[0.0, 0.86583626, 1.0310498, 1.032616, 0.91030926, 1.0170509],\n",
       " [0.86583626, 0.0, 1.0272688, 1.0076717, 1.1900533, 1.294404],\n",
       " [1.0310498, 1.0272688, 0.0, 0.14741804, 1.4505166, 1.6396354],\n",
       " [1.032616, 1.0076717, 0.14741804, 0.0, 1.4689083, 1.6276246],\n",
       " [0.91030926, 1.1900533, 1.4505166, 1.4689083, 0.0, 0.6010906],\n",
       " [1.0170509, 1.294404, 1.6396354, 1.6276246, 0.6010906, 0.0]]"
      ]
     },
     "execution_count": 20,
     "metadata": {},
     "output_type": "execute_result"
    }
   ],
   "source": [
    "distance = [[0 for j in range(6)] for i in range(6)]\n",
    "for i in range(6):\n",
    "    ref = base_prediction[i]\n",
    "    for j in range(6):\n",
    "        new_img = base_prediction[j]\n",
    "        dist = np.sqrt(np.sum((new_img - ref) ** 2))\n",
    "        distance[i][j] = dist\n",
    "distance"
   ]
  },
  {
   "cell_type": "code",
   "execution_count": 21,
   "metadata": {
    "scrolled": false
   },
   "outputs": [
    {
     "data": {
      "image/png": "[encoded data removed]",
      "text/plain": [
       "<Figure size 504x432 with 2 Axes>"
      ]
     },
     "metadata": {},
     "output_type": "display_data"
    }
   ],
   "source": [
    "plt.figure(figsize=(7, 6))\n",
    "plt.imshow(distance)\n",
    "plt.colorbar()\n",
    "plt.show()"
   ]
  },
  {
   "cell_type": "markdown",
   "metadata": {},
   "source": [
    "# Extract Features using Triplet Network"
   ]
  },
  {
   "cell_type": "code",
   "execution_count": 31,
   "metadata": {},
   "outputs": [
    {
     "name": "stdout",
     "output_type": "stream",
     "text": [
      "Train:\t\t (113783, 4)\n",
      "Validation:\t (22255, 4)\n",
      "Test:\t\t (22391, 4)\n",
      "\n",
      "Train Landmarks:\t 14943\n",
      "Validation Landmarks:\t 7674\n",
      "Test Landmarks:\t\t 14436\n"
     ]
    }
   ],
   "source": [
    "train_df = pd.read_csv('./data/triplet/train.csv')\n",
    "val_df = pd.read_csv('./data/triplet/validation.csv')\n",
    "test_df = pd.read_csv('./data/triplet/test.csv')\n",
    "\n",
    "print('Train:\\t\\t', train_df.shape)\n",
    "print('Validation:\\t', val_df.shape)\n",
    "print('Test:\\t\\t', test_df.shape)\n",
    "\n",
    "print('\\nTrain Landmarks:\\t', len(train_df['landmark_id'].unique()))\n",
    "print('Validation Landmarks:\\t', len(val_df['landmark_id'].unique()))\n",
    "print('Test Landmarks:\\t\\t', len(test_df['landmark_id'].unique()))"
   ]
  },
  {
   "cell_type": "code",
   "execution_count": 32,
   "metadata": {},
   "outputs": [
    {
     "name": "stdout",
     "output_type": "stream",
     "text": [
      "_________________________________________________________________\n",
      "Layer (type)                 Output Shape              Param #   \n",
      "=================================================================\n",
      "vgg16 (Model)                (None, 7, 7, 512)         14714688  \n",
      "_________________________________________________________________\n",
      "flatten (Flatten)            (None, 25088)             0         \n",
      "_________________________________________________________________\n",
      "dropout1 (Dropout)           (None, 25088)             0         \n",
      "_________________________________________________________________\n",
      "fc1 (Dense)                  (None, 512)               12845568  \n",
      "_________________________________________________________________\n",
      "dropout2 (Dropout)           (None, 512)               0         \n",
      "_________________________________________________________________\n",
      "fc2 (Dense)                  (None, 128)               65664     \n",
      "_________________________________________________________________\n",
      "l2_norm (Lambda)             (None, 128)               0         \n",
      "=================================================================\n",
      "Total params: 27,625,920\n",
      "Trainable params: 27,625,920\n",
      "Non-trainable params: 0\n",
      "_________________________________________________________________\n"
     ]
    }
   ],
   "source": [
    "# Load trained model\n",
    "base_model = load_model('./models/vgg16-base-model.h5')\n",
    "base_model.summary()"
   ]
  },
  {
   "cell_type": "code",
   "execution_count": 33,
   "metadata": {},
   "outputs": [],
   "source": [
    "# Define train_imgs and test_imgs\n",
    "train_imgs = np.zeros(shape=(len(train_df), 128), dtype=np.float32)\n",
    "val_imgs = np.zeros(shape=(len(val_df), 128), dtype=np.float32)\n",
    "test_imgs = np.zeros(shape=(len(test_df), 128), dtype=np.float32)"
   ]
  },
  {
   "cell_type": "code",
   "execution_count": 34,
   "metadata": {},
   "outputs": [
    {
     "name": "stdout",
     "output_type": "stream",
     "text": [
      "\n",
      "Process:          0\n",
      "================================================================================\n",
      "Process:      20000\n",
      "================================================================================\n",
      "Process:      40000\n",
      "================================================================================\n",
      "Process:      60000\n",
      "================================================================================\n",
      "Process:      80000\n",
      "================================================================================\n",
      "Process:     100000\n",
      "========================================================"
     ]
    }
   ],
   "source": [
    "# Process training images\n",
    "img_ids = train_df['image_id'].values\n",
    "steps = 20000\n",
    "for i in range(0, len(train_df), steps):\n",
    "    tmp_imgs = []\n",
    "    print('\\nProcess: {:10d}'.format(i))\n",
    "    \n",
    "    start = i\n",
    "    end = min(len(train_df), i + steps)\n",
    "    for idx in range(start, end):\n",
    "        if idx % 250 == 0:\n",
    "            print('=', end='')\n",
    "            \n",
    "        img_id = img_ids[idx]\n",
    "        path = './data/triplet/train/' + str(img_id) + '.jpg'\n",
    "        img = load_img(path, target_size=img_size[:2])\n",
    "        img = img_to_array(img)\n",
    "        tmp_imgs.append(img)\n",
    "        \n",
    "    tmp_imgs = np.array(tmp_imgs, dtype=np.float32) / 255.0\n",
    "    tmp_prediction = base_model.predict(tmp_imgs)\n",
    "    train_imgs[start: end, ] = tmp_prediction\n",
    "    _ = gc.collect()"
   ]
  },
  {
   "cell_type": "code",
   "execution_count": 35,
   "metadata": {},
   "outputs": [
    {
     "name": "stdout",
     "output_type": "stream",
     "text": [
      "\n",
      "Process:          0\n",
      "================================================================================\n",
      "Process:       4000\n",
      "================================================================================\n",
      "Process:       8000\n",
      "================================================================================\n",
      "Process:      12000\n",
      "================================================================================\n",
      "Process:      16000\n",
      "================================================================================\n",
      "Process:      20000\n",
      "=============================================="
     ]
    }
   ],
   "source": [
    "# Process validation images\n",
    "img_ids = val_df['image_id'].values\n",
    "steps = 4000\n",
    "for i in range(0, len(val_df), steps):\n",
    "    tmp_imgs = []\n",
    "    print('\\nProcess: {:10d}'.format(i))\n",
    "    \n",
    "    start = i\n",
    "    end = min(len(val_df), i + steps)\n",
    "    for idx in range(start, end):\n",
    "        if idx % 50 == 0:\n",
    "            print('=', end='')\n",
    "            \n",
    "        img_id = img_ids[idx]\n",
    "        path = './data/triplet/validation/' + str(img_id) + '.jpg'\n",
    "        img = load_img(path, target_size=img_size[:2])\n",
    "        img = img_to_array(img)\n",
    "        tmp_imgs.append(img)\n",
    "        \n",
    "    tmp_imgs = np.array(tmp_imgs, dtype=np.float32) / 255.0\n",
    "    tmp_prediction = base_model.predict(tmp_imgs)\n",
    "    val_imgs[start: end, ] = tmp_prediction\n",
    "    _ = gc.collect()"
   ]
  },
  {
   "cell_type": "code",
   "execution_count": 36,
   "metadata": {},
   "outputs": [
    {
     "name": "stdout",
     "output_type": "stream",
     "text": [
      "\n",
      "Process:          0\n",
      "================================================================================\n",
      "Process:       4000\n",
      "================================================================================\n",
      "Process:       8000\n",
      "================================================================================\n",
      "Process:      12000\n",
      "================================================================================\n",
      "Process:      16000\n",
      "================================================================================\n",
      "Process:      20000\n",
      "================================================"
     ]
    }
   ],
   "source": [
    "# Process test images\n",
    "img_ids = test_df['image_id'].values\n",
    "steps = 4000\n",
    "for i in range(0, len(test_df), steps):\n",
    "    tmp_imgs = []\n",
    "    print('\\nProcess: {:10d}'.format(i))\n",
    "    \n",
    "    start = i\n",
    "    end = min(len(test_df), i + steps)\n",
    "    for idx in range(start, end):\n",
    "        if idx % 50 == 0:\n",
    "            print('=', end='')\n",
    "            \n",
    "        img_id = img_ids[idx]\n",
    "        path = './data/triplet/test/' + str(img_id) + '.jpg'\n",
    "        img = load_img(path, target_size=img_size[:2])\n",
    "        img = img_to_array(img)\n",
    "        tmp_imgs.append(img)\n",
    "        \n",
    "    tmp_imgs = np.array(tmp_imgs, dtype=np.float32) / 255.0\n",
    "    tmp_prediction = base_model.predict(tmp_imgs)\n",
    "    test_imgs[start: end, ] = tmp_prediction\n",
    "    _ = gc.collect()"
   ]
  },
  {
   "cell_type": "code",
   "execution_count": 37,
   "metadata": {},
   "outputs": [
    {
     "name": "stdout",
     "output_type": "stream",
     "text": [
      "Train:\t\t (113783, 128)\n",
      "Validation:\t (22255, 128)\n",
      "Test:\t\t (22391, 128)\n"
     ]
    }
   ],
   "source": [
    "print('Train:\\t\\t', train_imgs.shape)\n",
    "print('Validation:\\t', val_imgs.shape)\n",
    "print('Test:\\t\\t', test_imgs.shape)"
   ]
  },
  {
   "cell_type": "code",
   "execution_count": 38,
   "metadata": {},
   "outputs": [],
   "source": [
    "# Save to disk\n",
    "np.save('./data/triplet/train_triplet_vgg16_features.npy', train_imgs)\n",
    "np.save('./data/triplet/validation_triplet_vgg16_features.npy', val_imgs)\n",
    "np.save('./data/triplet/test_triplet_vgg16_features.npy', test_imgs)"
   ]
  },
  {
   "cell_type": "code",
   "execution_count": null,
   "metadata": {},
   "outputs": [],
   "source": []
  }
 ],
 "metadata": {
  "kernelspec": {
   "display_name": "Environment (conda_tensorflow_p36)",
   "language": "python",
   "name": "conda_tensorflow_p36"
  },
  "language_info": {
   "codemirror_mode": {
    "name": "ipython",
    "version": 3
   },
   "file_extension": ".py",
   "mimetype": "text/x-python",
   "name": "python",
   "nbconvert_exporter": "python",
   "pygments_lexer": "ipython3",
   "version": "3.6.4"
  }
 },
 "nbformat": 4,
 "nbformat_minor": 2
}
