{
 "cells": [
  {
   "cell_type": "code",
   "execution_count": 1,
   "metadata": {},
   "outputs": [
    {
     "name": "stderr",
     "output_type": "stream",
     "text": [
      "Using TensorFlow backend.\n"
     ]
    }
   ],
   "source": [
    "import warnings\n",
    "warnings.simplefilter('ignore')\n",
    "\n",
    "import numpy as np\n",
    "import pandas as pd\n",
    "import matplotlib.pyplot as plt\n",
    "import tensorflow as tf\n",
    "import random, gc, keras, os\n",
    "\n",
    "from keras import backend as K\n",
    "from keras.preprocessing.image import load_img, img_to_array\n",
    "from keras.models import Sequential, load_model, Model\n",
    "from keras.layers import Dense, Dropout, Activation, Flatten, Input, Lambda\n",
    "from keras.callbacks import ModelCheckpoint, LearningRateScheduler, ReduceLROnPlateau\n",
    "from keras.applications.vgg16 import VGG16\n",
    "\n",
    "%matplotlib inline"
   ]
  },
  {
   "cell_type": "markdown",
   "metadata": {},
   "source": [
    "# Load Data"
   ]
  },
  {
   "cell_type": "code",
   "execution_count": 2,
   "metadata": {},
   "outputs": [
    {
     "name": "stdout",
     "output_type": "stream",
     "text": [
      "Train:\t\t (113783, 4)\n",
      "Validation:\t (22255, 4)\n",
      "Test:\t\t (22391, 4)\n",
      "\n",
      "Train Landmarks:\t 14943\n",
      "Validation Landmarks:\t 7674\n",
      "Test Landmarks:\t\t 14436\n"
     ]
    }
   ],
   "source": [
    "train_df = pd.read_csv('./data/triplet/train.csv')\n",
    "val_df = pd.read_csv('./data/triplet/validation.csv')\n",
    "test_df = pd.read_csv('./data/triplet/test.csv')\n",
    "\n",
    "print('Train:\\t\\t', train_df.shape)\n",
    "print('Validation:\\t', val_df.shape)\n",
    "print('Test:\\t\\t', test_df.shape)\n",
    "\n",
    "print('\\nTrain Landmarks:\\t', len(train_df['landmark_id'].unique()))\n",
    "print('Validation Landmarks:\\t', len(val_df['landmark_id'].unique()))\n",
    "print('Test Landmarks:\\t\\t', len(test_df['landmark_id'].unique()))"
   ]
  },
  {
   "cell_type": "code",
   "execution_count": 3,
   "metadata": {
    "scrolled": true
   },
   "outputs": [
    {
     "data": {
      "text/html": [
       "<div>\n",
       "<style scoped>\n",
       "    .dataframe tbody tr th:only-of-type {\n",
       "        vertical-align: middle;\n",
       "    }\n",
       "\n",
       "    .dataframe tbody tr th {\n",
       "        vertical-align: top;\n",
       "    }\n",
       "\n",
       "    .dataframe thead th {\n",
       "        text-align: right;\n",
       "    }\n",
       "</style>\n",
       "<table border=\"1\" class=\"dataframe\">\n",
       "  <thead>\n",
       "    <tr style=\"text-align: right;\">\n",
       "      <th></th>\n",
       "      <th>image_id</th>\n",
       "      <th>id</th>\n",
       "      <th>url</th>\n",
       "      <th>landmark_id</th>\n",
       "    </tr>\n",
       "  </thead>\n",
       "  <tbody>\n",
       "    <tr>\n",
       "      <th>0</th>\n",
       "      <td>465272</td>\n",
       "      <td>a2ccf8ed2e969f6a</td>\n",
       "      <td>https://lh4.googleusercontent.com/-TPHkS5gzvm4...</td>\n",
       "      <td>0</td>\n",
       "    </tr>\n",
       "    <tr>\n",
       "      <th>1</th>\n",
       "      <td>64516</td>\n",
       "      <td>e205ca7c8dd7c027</td>\n",
       "      <td>https://lh3.googleusercontent.com/-V3RjsZtGpxE...</td>\n",
       "      <td>0</td>\n",
       "    </tr>\n",
       "    <tr>\n",
       "      <th>2</th>\n",
       "      <td>928409</td>\n",
       "      <td>4e8ab93c1620e8a3</td>\n",
       "      <td>http://mw2.google.com/mw-panoramio/photos/medi...</td>\n",
       "      <td>0</td>\n",
       "    </tr>\n",
       "    <tr>\n",
       "      <th>3</th>\n",
       "      <td>88809</td>\n",
       "      <td>896bf928214d1ca4</td>\n",
       "      <td>http://lh5.ggpht.com/-Cy0l41uUaGA/R--yB8vy41I/...</td>\n",
       "      <td>0</td>\n",
       "    </tr>\n",
       "    <tr>\n",
       "      <th>4</th>\n",
       "      <td>1001133</td>\n",
       "      <td>375d2a153bdca926</td>\n",
       "      <td>http://lh6.ggpht.com/-UqzFpnqE9bU/S_0u1RovfdI/...</td>\n",
       "      <td>0</td>\n",
       "    </tr>\n",
       "  </tbody>\n",
       "</table>\n",
       "</div>"
      ],
      "text/plain": [
       "   image_id                id  \\\n",
       "0    465272  a2ccf8ed2e969f6a   \n",
       "1     64516  e205ca7c8dd7c027   \n",
       "2    928409  4e8ab93c1620e8a3   \n",
       "3     88809  896bf928214d1ca4   \n",
       "4   1001133  375d2a153bdca926   \n",
       "\n",
       "                                                 url  landmark_id  \n",
       "0  https://lh4.googleusercontent.com/-TPHkS5gzvm4...            0  \n",
       "1  https://lh3.googleusercontent.com/-V3RjsZtGpxE...            0  \n",
       "2  http://mw2.google.com/mw-panoramio/photos/medi...            0  \n",
       "3  http://lh5.ggpht.com/-Cy0l41uUaGA/R--yB8vy41I/...            0  \n",
       "4  http://lh6.ggpht.com/-UqzFpnqE9bU/S_0u1RovfdI/...            0  "
      ]
     },
     "execution_count": 3,
     "metadata": {},
     "output_type": "execute_result"
    }
   ],
   "source": [
    "train_df.head()"
   ]
  },
  {
   "cell_type": "markdown",
   "metadata": {},
   "source": [
    "# Helper Functions"
   ]
  },
  {
   "cell_type": "code",
   "execution_count": 4,
   "metadata": {},
   "outputs": [],
   "source": [
    "# read all images\n",
    "def get_all_images(df, img_size=(224, 224), prefix='./data/triplet/train'):\n",
    "    \"\"\" get all test images \"\"\"\n",
    "    img_ids = df['image_id'].values\n",
    "    landmark_ids = df['landmark_id'].values\n",
    "    images = []\n",
    "    \n",
    "    for idx in img_ids:\n",
    "        path = prefix + str(idx) + '.jpg'\n",
    "        tmp_img = load_img(path, target_size=img_size)\n",
    "        tmp_img = img_to_array(tmp_img)\n",
    "        images.append(tmp_img)\n",
    "        \n",
    "    # transform list to array\n",
    "    images = np.array(images, dtype=K.floatx()) / 255.0\n",
    "    \n",
    "    return images"
   ]
  },
  {
   "cell_type": "code",
   "execution_count": 5,
   "metadata": {},
   "outputs": [],
   "source": [
    "# training set triplet generator\n",
    "def train_triplet_generator(df, batch_size=74, img_size=(224, 224), seed=42, \n",
    "                            prefix='./data/triplet/train/'):\n",
    "    \"\"\" training set triplet generator\n",
    "        it will generate 7400 triplet images in total\n",
    "    \"\"\"\n",
    "    # get images with only one training image landmark id and the rest landmark ids\n",
    "    np.random.seed(seed)\n",
    "    grouped = df[['landmark_id', 'image_id']].groupby('landmark_id').count().reset_index()\n",
    "    unique_neg_ids = list(grouped[grouped['image_id'] == 1]['landmark_id'].values)\n",
    "    rest_ids = list(grouped[grouped['image_id'] > 1]['landmark_id'].values)\n",
    "    size = 7400 * 2 - len(unique_neg_ids) \n",
    "    zeros = np.zeros((batch_size, 1), dtype=K.floatx())\n",
    "    \n",
    "    while True:\n",
    "        # get positive and negative image landmark ids\n",
    "        np.random.shuffle(rest_ids)\n",
    "        candidate_ids = list(np.random.choice(rest_ids, size=size, replace=False))\n",
    "        pos_landmark_ids = candidate_ids[:7400]\n",
    "        neg_landmark_ids = candidate_ids[7400:] + unique_neg_ids\n",
    "        np.random.shuffle(neg_landmark_ids)\n",
    "        \n",
    "        # transform landmark id into image id\n",
    "        anc_img_ids = []\n",
    "        pos_img_ids = []\n",
    "        neg_img_ids = []\n",
    "        \n",
    "        for i in range(len(pos_landmark_ids)):\n",
    "            tmp_pos_ids = df[df['landmark_id'] == pos_landmark_ids[i]]['image_id'].values\n",
    "            anc_img_ids.append(tmp_pos_ids[0])\n",
    "            pos_img_ids.append(tmp_pos_ids[1])\n",
    "            \n",
    "            tmp_neg_ids = df[df['landmark_id'] == neg_landmark_ids[i]]['image_id'].values\n",
    "            neg_img_ids.append(tmp_neg_ids[0])\n",
    "        \n",
    "        # iterator to read batch images\n",
    "        for j in range(len(pos_img_ids) // batch_size):\n",
    "            batch_anc_img_ids = anc_img_ids[j * batch_size: (j + 1) * batch_size]\n",
    "            batch_pos_img_ids = pos_img_ids[j * batch_size: (j + 1) * batch_size]\n",
    "            batch_neg_img_ids = neg_img_ids[j * batch_size: (j + 1) * batch_size]\n",
    "            \n",
    "            # get images\n",
    "            anc_imgs = []\n",
    "            pos_imgs = []\n",
    "            neg_imgs = []\n",
    "            \n",
    "            # iteratively read images\n",
    "            for k in range(batch_size):\n",
    "                anc_path = prefix + str(batch_anc_img_ids[k]) + '.jpg'\n",
    "                pos_path = prefix + str(batch_pos_img_ids[k]) + '.jpg'\n",
    "                neg_path = prefix + str(batch_neg_img_ids[k]) + '.jpg'\n",
    "                \n",
    "                tmp_anc_img = load_img(anc_path, target_size=img_size)\n",
    "                tmp_anc_img = img_to_array(tmp_anc_img)\n",
    "                anc_imgs.append(tmp_anc_img)\n",
    "                \n",
    "                tmp_pos_img = load_img(pos_path, target_size=img_size)\n",
    "                tmp_pos_img = img_to_array(tmp_pos_img)\n",
    "                pos_imgs.append(tmp_pos_img)\n",
    "                \n",
    "                tmp_neg_img = load_img(neg_path, target_size=img_size)\n",
    "                tmp_neg_img = img_to_array(tmp_neg_img)\n",
    "                neg_imgs.append(tmp_neg_img)\n",
    "        \n",
    "            # transform list to array\n",
    "            anc_imgs = np.array(anc_imgs, dtype=K.floatx()) / 255.0\n",
    "            pos_imgs = np.array(pos_imgs, dtype=K.floatx()) / 255.0\n",
    "            neg_imgs = np.array(neg_imgs, dtype=K.floatx()) / 255.0\n",
    "\n",
    "            yield [anc_imgs, pos_imgs, neg_imgs], [zeros, zeros, zeros]"
   ]
  },
  {
   "cell_type": "code",
   "execution_count": 6,
   "metadata": {},
   "outputs": [],
   "source": [
    "# validation set triplet generator\n",
    "def val_triplet_generator(df, batch_size=128, img_size=(224, 224), \n",
    "                          seed=42, prefix='./data/triplet/validation'):\n",
    "    \"\"\" validation set triplet collector \"\"\"\n",
    "    \n",
    "     # get images with only one image landmark id and the rest landmark ids\n",
    "    grouped = df[['landmark_id', 'image_id']].groupby('landmark_id').count().reset_index()\n",
    "    unique_neg_ids = list(grouped[grouped['image_id'] == 1]['landmark_id'].values)\n",
    "    rest_ids = list(grouped[grouped['image_id'] > 1]['landmark_id'].values)\n",
    "    size = 3072 * 2 - len(unique_neg_ids) \n",
    "    zeros = np.zeros((batch_size, 1), dtype=K.floatx())\n",
    "    \n",
    "    while True:\n",
    "        # get positive and negative image landmark ids\n",
    "        np.random.seed(seed)\n",
    "        candidate_ids = list(np.random.choice(rest_ids, size=size, replace=False))\n",
    "        pos_landmark_ids = candidate_ids[:3072]\n",
    "        neg_landmark_ids = candidate_ids[3072:] + unique_neg_ids\n",
    "        np.random.shuffle(neg_landmark_ids)\n",
    "        \n",
    "        # transform landmark id into image id\n",
    "        anc_img_ids = []\n",
    "        pos_img_ids = []\n",
    "        neg_img_ids = []\n",
    "        \n",
    "        for i in range(len(pos_landmark_ids)):\n",
    "            tmp_pos_ids = df[df['landmark_id'] == pos_landmark_ids[i]]['image_id'].values\n",
    "            anc_img_ids.append(tmp_pos_ids[0])\n",
    "            pos_img_ids.append(tmp_pos_ids[1])\n",
    "            \n",
    "            tmp_neg_ids = df[df['landmark_id'] == neg_landmark_ids[i]]['image_id'].values\n",
    "            neg_img_ids.append(tmp_neg_ids[0])\n",
    "        \n",
    "        # iterator to read batch images\n",
    "        for j in range(len(pos_img_ids) // batch_size):\n",
    "            batch_anc_img_ids = anc_img_ids[j * batch_size: (j + 1) * batch_size]\n",
    "            batch_pos_img_ids = pos_img_ids[j * batch_size: (j + 1) * batch_size]\n",
    "            batch_neg_img_ids = neg_img_ids[j * batch_size: (j + 1) * batch_size]\n",
    "            \n",
    "            # get images\n",
    "            anc_imgs = []\n",
    "            pos_imgs = []\n",
    "            neg_imgs = []\n",
    "            \n",
    "            # iteratively read images\n",
    "            for k in range(batch_size):\n",
    "                anc_path = prefix + str(batch_anc_img_ids[k]) + '.jpg'\n",
    "                pos_path = prefix + str(batch_pos_img_ids[k]) + '.jpg'\n",
    "                neg_path = prefix + str(batch_neg_img_ids[k]) + '.jpg'\n",
    "                \n",
    "                tmp_anc_img = load_img(anc_path, target_size=img_size)\n",
    "                tmp_anc_img = img_to_array(tmp_anc_img)\n",
    "                anc_imgs.append(tmp_anc_img)\n",
    "                \n",
    "                tmp_pos_img = load_img(pos_path, target_size=img_size)\n",
    "                tmp_pos_img = img_to_array(tmp_pos_img)\n",
    "                pos_imgs.append(tmp_pos_img)\n",
    "                \n",
    "                tmp_neg_img = load_img(neg_path, target_size=img_size)\n",
    "                tmp_neg_img = img_to_array(tmp_neg_img)\n",
    "                neg_imgs.append(tmp_neg_img)\n",
    "        \n",
    "            # transform list to array\n",
    "            anc_imgs = np.array(anc_imgs, dtype=K.floatx()) / 255.0\n",
    "            pos_imgs = np.array(pos_imgs, dtype=K.floatx()) / 255.0\n",
    "            neg_imgs = np.array(neg_imgs, dtype=K.floatx()) / 255.0\n",
    "            \n",
    "            yield [anc_imgs, pos_imgs, neg_imgs], [zeros, zeros, zeros]"
   ]
  },
  {
   "cell_type": "markdown",
   "metadata": {},
   "source": [
    "# Define Triplet Loss Model"
   ]
  },
  {
   "cell_type": "code",
   "execution_count": 7,
   "metadata": {},
   "outputs": [],
   "source": [
    "# Define base network for triplet network\n",
    "def base_net(input_shape=(224, 224, 3), trainable=False):\n",
    "    \"\"\" define triplet network \"\"\"\n",
    "    # load pre-trained VGG16 model\n",
    "    vgg16 = VGG16(include_top=False, weights='imagenet', input_shape=input_shape)\n",
    "    vgg16.trainable = trainable\n",
    "    \n",
    "    # define sequential model\n",
    "    model = Sequential(name='base_net')\n",
    "    model.add(vgg16)\n",
    "    model.add(Flatten(name='flatten'))\n",
    "    model.add(Dense(512, activation='relu', name='fc1'))\n",
    "    model.add(Dense(128, activation=None, name='fc2'))\n",
    "    model.add(Lambda(lambda x: K.l2_normalize(x, axis=1), name='l2_norm'))\n",
    "    \n",
    "    return model"
   ]
  },
  {
   "cell_type": "code",
   "execution_count": 8,
   "metadata": {},
   "outputs": [],
   "source": [
    "# Define triplet network\n",
    "def triplet_net(base_model, input_shape=(224, 224, 3)):\n",
    "    \"\"\" function to define triplet networks \"\"\"\n",
    "    # define input: anchor, positive, negative\n",
    "    anc_input = Input(shape=input_shape, name='anchor_input')\n",
    "    pos_input = Input(shape=input_shape, name='positive_input')\n",
    "    neg_input = Input(shape=input_shape, name='negative_input')\n",
    "    \n",
    "    # extract vector represent using CNN based model\n",
    "    anc_output = base_model(anc_input)\n",
    "    pos_output = base_model(pos_input)\n",
    "    neg_output = base_model(neg_input)\n",
    "    \n",
    "    # extract vector represent using CNN based model\n",
    "#     anc_output = Lambda(lambda x: x, name='anchor_output')(anc_output)\n",
    "#     pos_output = Lambda(lambda x: x, name='positive_output')(pos_output)\n",
    "#     neg_output = Lambda(lambda x: x, name='nagative_output')(neg_output)\n",
    "    \n",
    "    # define inputs and outputs\n",
    "    inputs=[anc_input, pos_input, neg_input]\n",
    "    outputs=[anc_output, pos_output, neg_output]\n",
    "    \n",
    "    # define the triplet model\n",
    "    model = Model(inputs=inputs, outputs=outputs, name='triplet_net')\n",
    "    \n",
    "    return model"
   ]
  },
  {
   "cell_type": "code",
   "execution_count": 9,
   "metadata": {},
   "outputs": [],
   "source": [
    "# Define triplet loss\n",
    "def triplet_loss(y_true, y_pred):\n",
    "    \"\"\" function to compute triplet loss\n",
    "        margin is predefined coded, manually change if needed\n",
    "    \"\"\"\n",
    "    # define triplet margin\n",
    "    margin = 0.2\n",
    "    \n",
    "    # get the prediction vector\n",
    "    anchor, positive, negative = y_pred[0], y_pred[1], y_pred[2]\n",
    "    \n",
    "    # compute distance\n",
    "    pos_distance = tf.reduce_sum(tf.square(tf.subtract(anchor, positive)), axis=-1)\n",
    "    neg_distance = tf.reduce_sum(tf.square(tf.subtract(anchor, negative)), axis=-1)\n",
    "    \n",
    "    # compute loss\n",
    "    partial_loss = tf.subtract(pos_distance, neg_distance) + margin\n",
    "    full_loss = tf.reduce_sum(tf.maximum(partial_loss, 0.0))\n",
    "    \n",
    "    return full_loss"
   ]
  },
  {
   "cell_type": "markdown",
   "metadata": {},
   "source": [
    "# Model Validation"
   ]
  },
  {
   "cell_type": "code",
   "execution_count": 10,
   "metadata": {
    "scrolled": false
   },
   "outputs": [],
   "source": [
    "# img_size = (224, 224, 3)  # target image size\n",
    "\n",
    "# #Summary of pre-trained VGG16 model\n",
    "# vgg16 = VGG16(include_top=False, weights='imagenet', input_shape=img_size)\n",
    "# vgg16.summary()"
   ]
  },
  {
   "cell_type": "code",
   "execution_count": 11,
   "metadata": {},
   "outputs": [],
   "source": [
    "# # model test\n",
    "# base_model = base_net(input_shape=img_size, trainable=False)\n",
    "# base_model.summary()"
   ]
  },
  {
   "cell_type": "code",
   "execution_count": 12,
   "metadata": {},
   "outputs": [],
   "source": [
    "# # model test\n",
    "# triplet_model = triplet_net(base_model=base_model, input_shape=img_size)\n",
    "# triplet_model.summary()"
   ]
  },
  {
   "cell_type": "markdown",
   "metadata": {},
   "source": [
    "# Build Triplet Model"
   ]
  },
  {
   "cell_type": "code",
   "execution_count": 13,
   "metadata": {},
   "outputs": [],
   "source": [
    "# For reproduciable purpose\n",
    "seed = 42\n",
    "K.clear_session()\n",
    "os.environ['PYTHONHASHSEED'] = '0'\n",
    "np.random.seed(seed)\n",
    "random.seed(seed)\n",
    "session_conf = tf.ConfigProto(intra_op_parallelism_threads=1, inter_op_parallelism_threads=1)\n",
    "tf.set_random_seed(seed)\n",
    "sess = tf.Session(graph=tf.get_default_graph(), config=session_conf)\n",
    "K.set_session(sess)\n",
    "\n",
    "# Define Parameters\n",
    "img_size = (224, 224, 3)  # target image size\n",
    "\n",
    "# triplet image generator\n",
    "train_generator = train_triplet_generator(train_df, batch_size=74, img_size=img_size[:2], \n",
    "                                          seed=42, prefix='./data/triplet/train/')\n",
    "\n",
    "val_generator = val_triplet_generator(val_df, batch_size=64, img_size=img_size[:2], \n",
    "                                      seed=42, prefix='./data/triplet/validation/')"
   ]
  },
  {
   "cell_type": "code",
   "execution_count": 14,
   "metadata": {},
   "outputs": [
    {
     "name": "stdout",
     "output_type": "stream",
     "text": [
      "WARNING:tensorflow:From /home/ubuntu/anaconda3/envs/tensorflow_p36/lib/python3.6/site-packages/keras/backend/tensorflow_backend.py:3148: calling l2_normalize (from tensorflow.python.ops.nn_impl) with dim is deprecated and will be removed in a future version.\n",
      "Instructions for updating:\n",
      "dim is deprecated, use axis instead\n",
      "Learning rate:  0.001\n"
     ]
    }
   ],
   "source": [
    "# Define triplet network model\n",
    "base_model = base_net(input_shape=img_size, trainable=False)\n",
    "triplet_model = triplet_net(base_model=base_model, input_shape=img_size)\n",
    "\n",
    "# define learning scheduler\n",
    "def lr_schedule(epoch):\n",
    "    \"\"\" Learning rate schedule \"\"\"\n",
    "    lr = 1e-3\n",
    "    if epoch > 40:\n",
    "        lr *= 6e-1\n",
    "    elif epoch > 30:\n",
    "        lr *= 7e-1\n",
    "    elif epoch > 20:\n",
    "        lr *= 8e-1\n",
    "    elif epoch > 10:\n",
    "        lr *= 9e-1\n",
    "    print('Learning rate: ', lr)\n",
    "    return lr\n",
    "\n",
    "# define optimizer\n",
    "opt = keras.optimizers.Adam(lr=lr_schedule(0))\n",
    "\n",
    "# compile the model\n",
    "triplet_model.compile(optimizer=opt, loss=triplet_loss)\n",
    "\n",
    "# Create call backs\n",
    "checkpoint = ModelCheckpoint(filepath='./models/triplet-initial-ckpt.h5', \n",
    "                             monitor='val_loss', save_best_only=True)\n",
    "lr_scheduler = LearningRateScheduler(lr_schedule)\n",
    "lr_reducer = ReduceLROnPlateau(factor=np.sqrt(0.1), cooldown=0, patience=5, min_lr=0.5e-6)\n",
    "callbacks = [checkpoint, lr_reducer, lr_scheduler]"
   ]
  },
  {
   "cell_type": "code",
   "execution_count": 22,
   "metadata": {
    "scrolled": false
   },
   "outputs": [
    {
     "data": {
      "text/plain": [
       "(6, 224, 224, 3)"
      ]
     },
     "execution_count": 22,
     "metadata": {},
     "output_type": "execute_result"
    }
   ],
   "source": [
    "# Get test images\n",
    "test_imgs = []\n",
    "img_size = (224, 224, 3)\n",
    "\n",
    "for idx in [928409, 326906, 402868, 510182, 887421, 712654]:\n",
    "    path = './data/triplet/train/' + str(idx) + '.jpg'\n",
    "    img = load_img(path, target_size=img_size[:2])\n",
    "    img = img_to_array(img)\n",
    "    test_imgs.append(img)\n",
    "    \n",
    "test_imgs = np.array(test_imgs, dtype=K.floatx()) / 255.0\n",
    "\n",
    "test_imgs.shape"
   ]
  },
  {
   "cell_type": "code",
   "execution_count": 23,
   "metadata": {},
   "outputs": [
    {
     "data": {
      "text/plain": [
       "array([[ 0.14626984, -0.03706361,  0.05251109,  0.04912101,  0.11733103],\n",
       "       [ 0.12574476, -0.07796656,  0.08089062,  0.0443171 ,  0.06665276],\n",
       "       [ 0.08131285, -0.03838212,  0.07441235,  0.08576041,  0.12136703],\n",
       "       [ 0.10549819, -0.02668604,  0.08891744,  0.08731908,  0.09706717],\n",
       "       [ 0.12427299, -0.05710417,  0.06242079,  0.05689394,  0.10255804],\n",
       "       [ 0.10399819, -0.00078068,  0.11129203,  0.00138174,  0.11126465]],\n",
       "      dtype=float32)"
      ]
     },
     "execution_count": 23,
     "metadata": {},
     "output_type": "execute_result"
    }
   ],
   "source": [
    "base_prediction = base_model.predict(test_imgs)\n",
    "\n",
    "base_prediction[:, :5]"
   ]
  },
  {
   "cell_type": "code",
   "execution_count": 31,
   "metadata": {},
   "outputs": [
    {
     "data": {
      "text/plain": [
       "[[0.0, 0.39660805, 0.43140647, 0.4320446, 0.422889, 0.421808],\n",
       " [0.39660805, 0.0, 0.46166673, 0.44836658, 0.43292212, 0.3688941],\n",
       " [0.43140647, 0.46166673, 0.0, 0.27378932, 0.38536528, 0.4561194],\n",
       " [0.4320446, 0.44836658, 0.27378932, 0.0, 0.3657132, 0.44124526],\n",
       " [0.422889, 0.43292212, 0.38536528, 0.3657132, 0.0, 0.39880088],\n",
       " [0.421808, 0.3688941, 0.4561194, 0.44124526, 0.39880088, 0.0]]"
      ]
     },
     "execution_count": 31,
     "metadata": {},
     "output_type": "execute_result"
    }
   ],
   "source": [
    "distance = [[0 for j in range(6)] for i in range(6)]\n",
    "for i in range(6):\n",
    "    ref = base_prediction[i]\n",
    "    for j in range(6):\n",
    "        new_img = base_prediction[j]\n",
    "        dist = np.sqrt(np.sum((new_img - ref) ** 2))\n",
    "        distance[i][j] = dist\n",
    "distance"
   ]
  },
  {
   "cell_type": "code",
   "execution_count": 32,
   "metadata": {},
   "outputs": [
    {
     "data": {
      "image/png": "[encoded data removed]",
      "text/plain": [
       "<Figure size 504x432 with 2 Axes>"
      ]
     },
     "metadata": {},
     "output_type": "display_data"
    }
   ],
   "source": [
    "plt.figure(figsize=(7, 6))\n",
    "plt.imshow(distance)\n",
    "plt.colorbar()\n",
    "plt.show()"
   ]
  },
  {
   "cell_type": "markdown",
   "metadata": {},
   "source": [
    "# Fit Triplet Model"
   ]
  },
  {
   "cell_type": "code",
   "execution_count": 33,
   "metadata": {
    "scrolled": true
   },
   "outputs": [
    {
     "name": "stdout",
     "output_type": "stream",
     "text": [
      "Epoch 1/50\n",
      "Learning rate:  0.001\n",
      " - 72s - loss: 0.6118 - base_net_loss: 0.2022 - val_loss: 0.5998 - val_base_net_loss: 0.1998\n",
      "Epoch 2/50\n",
      "Learning rate:  0.001\n",
      " - 55s - loss: 0.6014 - base_net_loss: 0.2007 - val_loss: 0.5994 - val_base_net_loss: 0.2011\n",
      "Epoch 3/50\n",
      "Learning rate:  0.001\n",
      " - 55s - loss: 0.5999 - base_net_loss: 0.2003 - val_loss: 0.5994 - val_base_net_loss: 0.2026\n",
      "Epoch 4/50\n",
      "Learning rate:  0.001\n",
      " - 55s - loss: 0.6003 - base_net_loss: 0.2010 - val_loss: 0.5837 - val_base_net_loss: 0.1941\n",
      "Epoch 5/50\n",
      "Learning rate:  0.001\n",
      " - 55s - loss: 0.6032 - base_net_loss: 0.2075 - val_loss: 0.6003 - val_base_net_loss: 0.2010\n",
      "Epoch 6/50\n",
      "Learning rate:  0.001\n",
      " - 55s - loss: 0.5997 - base_net_loss: 0.1995 - val_loss: 0.6003 - val_base_net_loss: 0.2009\n",
      "Epoch 7/50\n",
      "Learning rate:  0.001\n",
      " - 55s - loss: 0.5996 - base_net_loss: 0.1998 - val_loss: 0.5983 - val_base_net_loss: 0.2009\n",
      "Epoch 8/50\n",
      "Learning rate:  0.001\n",
      " - 55s - loss: 0.6013 - base_net_loss: 0.2017 - val_loss: 0.5978 - val_base_net_loss: 0.2011\n",
      "Epoch 9/50\n",
      "Learning rate:  0.001\n",
      " - 55s - loss: 0.6017 - base_net_loss: 0.2004 - val_loss: 0.5993 - val_base_net_loss: 0.2006\n",
      "Epoch 10/50\n",
      "Learning rate:  0.001\n",
      " - 55s - loss: 0.5994 - base_net_loss: 0.1992 - val_loss: 0.5993 - val_base_net_loss: 0.2007\n",
      "Epoch 11/50\n",
      "Learning rate:  0.001\n",
      " - 55s - loss: 0.6010 - base_net_loss: 0.2005 - val_loss: 0.5995 - val_base_net_loss: 0.2006\n",
      "Epoch 12/50\n",
      "Learning rate:  0.0009000000000000001\n",
      " - 55s - loss: 0.6002 - base_net_loss: 0.1996 - val_loss: 0.5997 - val_base_net_loss: 0.2007\n",
      "Epoch 13/50\n",
      "Learning rate:  0.0009000000000000001\n",
      " - 55s - loss: 0.6002 - base_net_loss: 0.1996 - val_loss: 0.5995 - val_base_net_loss: 0.2008\n",
      "Epoch 14/50\n",
      "Learning rate:  0.0009000000000000001\n",
      " - 55s - loss: 0.6000 - base_net_loss: 0.1999 - val_loss: 0.5994 - val_base_net_loss: 0.2009\n",
      "Epoch 15/50\n",
      "Learning rate:  0.0009000000000000001\n",
      " - 55s - loss: 0.6003 - base_net_loss: 0.2002 - val_loss: 0.5995 - val_base_net_loss: 0.2010\n",
      "Epoch 16/50\n",
      "Learning rate:  0.0009000000000000001\n",
      " - 55s - loss: 0.5982 - base_net_loss: 0.1991 - val_loss: 0.5984 - val_base_net_loss: 0.2026\n",
      "Epoch 17/50\n",
      "Learning rate:  0.0009000000000000001\n",
      " - 55s - loss: 0.5942 - base_net_loss: 0.1947 - val_loss: 0.5881 - val_base_net_loss: 0.2067\n",
      "Epoch 18/50\n",
      "Learning rate:  0.0009000000000000001\n",
      " - 55s - loss: 0.5998 - base_net_loss: 0.1953 - val_loss: 0.6011 - val_base_net_loss: 0.2023\n",
      "Epoch 19/50\n",
      "Learning rate:  0.0009000000000000001\n",
      " - 55s - loss: 0.6012 - base_net_loss: 0.2013 - val_loss: 0.6007 - val_base_net_loss: 0.2019\n",
      "Epoch 20/50\n",
      "Learning rate:  0.0009000000000000001\n",
      " - 55s - loss: 0.5973 - base_net_loss: 0.2033 - val_loss: 0.6017 - val_base_net_loss: 0.2104\n",
      "Epoch 21/50\n",
      "Learning rate:  0.0009000000000000001\n",
      " - 55s - loss: 0.6057 - base_net_loss: 0.2009 - val_loss: 0.6001 - val_base_net_loss: 0.2022\n",
      "Epoch 22/50\n",
      "Learning rate:  0.0008\n",
      " - 55s - loss: 0.6013 - base_net_loss: 0.2002 - val_loss: 0.5999 - val_base_net_loss: 0.2014\n",
      "Epoch 23/50\n",
      "Learning rate:  0.0008\n",
      " - 55s - loss: 0.6013 - base_net_loss: 0.1999 - val_loss: 0.5998 - val_base_net_loss: 0.2008\n",
      "Epoch 24/50\n",
      "Learning rate:  0.0008\n",
      " - 55s - loss: 0.6006 - base_net_loss: 0.2001 - val_loss: 0.5999 - val_base_net_loss: 0.2007\n",
      "Epoch 25/50\n",
      "Learning rate:  0.0008\n",
      " - 55s - loss: 0.5994 - base_net_loss: 0.1999 - val_loss: 0.5999 - val_base_net_loss: 0.2009\n",
      "Epoch 26/50\n",
      "Learning rate:  0.0008\n",
      " - 55s - loss: 0.5988 - base_net_loss: 0.1996 - val_loss: 0.5999 - val_base_net_loss: 0.2013\n",
      "Epoch 27/50\n",
      "Learning rate:  0.0008\n",
      " - 55s - loss: 0.6020 - base_net_loss: 0.2003 - val_loss: 0.5999 - val_base_net_loss: 0.2008\n",
      "Epoch 28/50\n",
      "Learning rate:  0.0008\n",
      " - 55s - loss: 0.5998 - base_net_loss: 0.1995 - val_loss: 0.5999 - val_base_net_loss: 0.2008\n",
      "Epoch 29/50\n",
      "Learning rate:  0.0008\n",
      " - 55s - loss: 0.6001 - base_net_loss: 0.1998 - val_loss: 0.6000 - val_base_net_loss: 0.2008\n",
      "Epoch 30/50\n",
      "Learning rate:  0.0008\n",
      " - 55s - loss: 0.6003 - base_net_loss: 0.1997 - val_loss: 0.5999 - val_base_net_loss: 0.2006\n",
      "Epoch 31/50\n",
      "Learning rate:  0.0008\n",
      " - 55s - loss: 0.5996 - base_net_loss: 0.2000 - val_loss: 0.6000 - val_base_net_loss: 0.2008\n",
      "Epoch 32/50\n",
      "Learning rate:  0.0007\n",
      " - 55s - loss: 0.6009 - base_net_loss: 0.2004 - val_loss: 0.6000 - val_base_net_loss: 0.2006\n",
      "Epoch 33/50\n",
      "Learning rate:  0.0007\n",
      " - 55s - loss: 0.5999 - base_net_loss: 0.2001 - val_loss: 0.6000 - val_base_net_loss: 0.2006\n",
      "Epoch 34/50\n",
      "Learning rate:  0.0007\n",
      " - 55s - loss: 0.6008 - base_net_loss: 0.2004 - val_loss: 0.5999 - val_base_net_loss: 0.2004\n",
      "Epoch 35/50\n",
      "Learning rate:  0.0007\n",
      " - 55s - loss: 0.6001 - base_net_loss: 0.2000 - val_loss: 0.5999 - val_base_net_loss: 0.2004\n",
      "Epoch 36/50\n",
      "Learning rate:  0.0007\n",
      " - 55s - loss: 0.6001 - base_net_loss: 0.2000 - val_loss: 0.5999 - val_base_net_loss: 0.2003\n",
      "Epoch 37/50\n",
      "Learning rate:  0.0007\n",
      " - 55s - loss: 0.6002 - base_net_loss: 0.1999 - val_loss: 0.5999 - val_base_net_loss: 0.2004\n",
      "Epoch 38/50\n",
      "Learning rate:  0.0007\n",
      " - 55s - loss: 0.6000 - base_net_loss: 0.1998 - val_loss: 0.5999 - val_base_net_loss: 0.2003\n",
      "Epoch 39/50\n",
      "Learning rate:  0.0007\n",
      " - 55s - loss: 0.6003 - base_net_loss: 0.2001 - val_loss: 0.5999 - val_base_net_loss: 0.2002\n",
      "Epoch 40/50\n",
      "Learning rate:  0.0007\n",
      " - 55s - loss: 0.6000 - base_net_loss: 0.2000 - val_loss: 0.5999 - val_base_net_loss: 0.2002\n",
      "Epoch 41/50\n",
      "Learning rate:  0.0007\n",
      " - 55s - loss: 0.5996 - base_net_loss: 0.1998 - val_loss: 0.5999 - val_base_net_loss: 0.2004\n",
      "Epoch 42/50\n",
      "Learning rate:  0.0006\n",
      " - 56s - loss: 0.6003 - base_net_loss: 0.1999 - val_loss: 0.5999 - val_base_net_loss: 0.2003\n",
      "Epoch 43/50\n",
      "Learning rate:  0.0006\n",
      " - 55s - loss: 0.6002 - base_net_loss: 0.2001 - val_loss: 0.5999 - val_base_net_loss: 0.2002\n",
      "Epoch 44/50\n",
      "Learning rate:  0.0006\n",
      " - 55s - loss: 0.5995 - base_net_loss: 0.1998 - val_loss: 0.5999 - val_base_net_loss: 0.2004\n",
      "Epoch 45/50\n",
      "Learning rate:  0.0006\n",
      " - 55s - loss: 0.6000 - base_net_loss: 0.1999 - val_loss: 0.5998 - val_base_net_loss: 0.2003\n",
      "Epoch 46/50\n",
      "Learning rate:  0.0006\n",
      " - 55s - loss: 0.6001 - base_net_loss: 0.1997 - val_loss: 0.5998 - val_base_net_loss: 0.2003\n",
      "Epoch 47/50\n",
      "Learning rate:  0.0006\n",
      " - 55s - loss: 0.5997 - base_net_loss: 0.1999 - val_loss: 0.5998 - val_base_net_loss: 0.2004\n",
      "Epoch 48/50\n",
      "Learning rate:  0.0006\n",
      " - 55s - loss: 0.5992 - base_net_loss: 0.1997 - val_loss: 0.5997 - val_base_net_loss: 0.2006\n",
      "Epoch 49/50\n",
      "Learning rate:  0.0006\n",
      " - 55s - loss: 0.6004 - base_net_loss: 0.1998 - val_loss: 0.5996 - val_base_net_loss: 0.2005\n",
      "Epoch 50/50\n",
      "Learning rate:  0.0006\n",
      " - 55s - loss: 0.6005 - base_net_loss: 0.2003 - val_loss: 0.5997 - val_base_net_loss: 0.2002\n"
     ]
    }
   ],
   "source": [
    "# fit the mode\n",
    "history = triplet_model.fit_generator(train_generator, steps_per_epoch=100, epochs=50, \n",
    "                                      validation_data=val_generator, validation_steps=48, \n",
    "                                      verbose=2, callbacks=callbacks)\n",
    "\n",
    "triplet_model.save('./models/triplet-initial-model.h5')\n",
    "_ = gc.collect()"
   ]
  },
  {
   "cell_type": "code",
   "execution_count": 34,
   "metadata": {},
   "outputs": [
    {
     "data": {
      "image/png": "[encoded data removed]",
      "text/plain": [
       "<Figure size 720x504 with 1 Axes>"
      ]
     },
     "metadata": {},
     "output_type": "display_data"
    }
   ],
   "source": [
    "# Visualize the training process\n",
    "train_loss = history.history['loss']\n",
    "val_loss = history.history['val_loss']\n",
    "\n",
    "fig, ax = plt.subplots(figsize=(10, 7))\n",
    "ax.plot(train_loss, label='Training Loss')\n",
    "ax.plot(val_loss, label='Validation Loss')\n",
    "ax.set_title('Loss vs. Epochs', fontsize=16)\n",
    "ax.set_xlabel('Epochs', fontsize=14)\n",
    "ax.set_ylabel('Loss', fontsize=14)\n",
    "ax.legend(fontsize=14)\n",
    "ax.grid(True)\n",
    "plt.show()"
   ]
  },
  {
   "cell_type": "code",
   "execution_count": null,
   "metadata": {},
   "outputs": [],
   "source": []
  },
  {
   "cell_type": "code",
   "execution_count": 35,
   "metadata": {},
   "outputs": [
    {
     "data": {
      "text/plain": [
       "array([[ 0.11955634, -0.1324915 ,  0.135236  ,  0.07976454,  0.11508806],\n",
       "       [ 0.1203182 , -0.13525815,  0.13666667,  0.0811279 ,  0.11489066],\n",
       "       [ 0.11893567, -0.13412024,  0.136516  ,  0.08260441,  0.11702073],\n",
       "       [ 0.11849368, -0.13397767,  0.13609448,  0.08288328,  0.1174267 ],\n",
       "       [ 0.11685851, -0.13478142,  0.1369994 ,  0.08107375,  0.11534099],\n",
       "       [ 0.11778052, -0.1343524 ,  0.13707711,  0.08054249,  0.11386396]],\n",
       "      dtype=float32)"
      ]
     },
     "execution_count": 35,
     "metadata": {},
     "output_type": "execute_result"
    }
   ],
   "source": [
    "base_prediction = base_model.predict(test_imgs)\n",
    "\n",
    "base_prediction[:, :5]"
   ]
  },
  {
   "cell_type": "code",
   "execution_count": 36,
   "metadata": {},
   "outputs": [
    {
     "data": {
      "text/plain": [
       "[[0.0, 0.029572109, 0.024579033, 0.027173918, 0.01778125, 0.014828371],\n",
       " [0.029572109, 0.0, 0.020285645, 0.02418495, 0.02474038, 0.02498278],\n",
       " [0.024579033, 0.020285645, 0.0, 0.006565448, 0.019335138, 0.022873176],\n",
       " [0.027173918, 0.02418495, 0.006565448, 0.0, 0.020335378, 0.02477297],\n",
       " [0.01778125, 0.02474038, 0.019335138, 0.020335378, 0.0, 0.009296096],\n",
       " [0.014828371, 0.02498278, 0.022873176, 0.02477297, 0.009296096, 0.0]]"
      ]
     },
     "execution_count": 36,
     "metadata": {},
     "output_type": "execute_result"
    }
   ],
   "source": [
    "distance = [[0 for j in range(6)] for i in range(6)]\n",
    "for i in range(6):\n",
    "    ref = base_prediction[i]\n",
    "    for j in range(6):\n",
    "        new_img = base_prediction[j]\n",
    "        dist = np.sqrt(np.sum((new_img - ref) ** 2))\n",
    "        distance[i][j] = dist\n",
    "distance"
   ]
  },
  {
   "cell_type": "code",
   "execution_count": 37,
   "metadata": {},
   "outputs": [
    {
     "data": {
      "image/png": "[encoded data removed]",
      "text/plain": [
       "<Figure size 504x432 with 2 Axes>"
      ]
     },
     "metadata": {},
     "output_type": "display_data"
    }
   ],
   "source": [
    "plt.figure(figsize=(7, 6))\n",
    "plt.imshow(distance)\n",
    "plt.colorbar()\n",
    "plt.show()"
   ]
  },
  {
   "cell_type": "markdown",
   "metadata": {},
   "source": [
    "# Extract Features using Triplet Network"
   ]
  },
  {
   "cell_type": "code",
   "execution_count": null,
   "metadata": {},
   "outputs": [],
   "source": [
    "train_df = pd.read_csv('./data/triplet/train.csv')\n",
    "val_df = pd.read_csv('./data/triplet/validation.csv')\n",
    "test_df = pd.read_csv('./data/triplet/test.csv')\n",
    "\n",
    "print('Train:\\t\\t', train_df.shape)\n",
    "print('Validation:\\t', val_df.shape)\n",
    "print('Test:\\t\\t', test_df.shape)\n",
    "\n",
    "print('\\nTrain Landmarks:\\t', len(train_df['landmark_id'].unique()))\n",
    "print('Validation Landmarks:\\t', len(val_df['landmark_id'].unique()))\n",
    "print('Test Landmarks:\\t\\t', len(test_df['landmark_id'].unique()))"
   ]
  },
  {
   "cell_type": "code",
   "execution_count": null,
   "metadata": {},
   "outputs": [],
   "source": [
    "# Define train_imgs and test_imgs\n",
    "train_imgs = np.zeros(shape=(len(train_df), 128), dtype=np.float32)\n",
    "val_imgs = np.zeros(shape=(len(val_df), 128), dtype=np.float32)\n",
    "test_imgs = np.zeros(shape=(len(test_df), 128), dtype=np.float32)"
   ]
  },
  {
   "cell_type": "code",
   "execution_count": null,
   "metadata": {},
   "outputs": [],
   "source": [
    "# Process training images\n",
    "img_ids = train_df['image_id'].values\n",
    "steps = 20000\n",
    "for i in range(0, len(train_df), steps):\n",
    "    tmp_imgs = []\n",
    "    print('\\nProcess: {:10d}'.format(i))\n",
    "    \n",
    "    start = i\n",
    "    end = min(len(train_df), i + steps)\n",
    "    for idx in range(start, end):\n",
    "        if idx % 250 == 0:\n",
    "            print('=', end='')\n",
    "            \n",
    "        img_id = img_ids[idx]\n",
    "        path = './data/triplet/train/' + str(img_id) + '.jpg'\n",
    "        img = load_img(path, target_size=img_size[:2])\n",
    "        img = img_to_array(img)\n",
    "        tmp_imgs.append(img)\n",
    "        \n",
    "    tmp_imgs = np.array(tmp_imgs, dtype=np.float32) / 255.0\n",
    "    tmp_prediction = base_model.predict(tmp_imgs)\n",
    "    train_imgs[start: end, ] = tmp_prediction\n",
    "    _ = gc.collect()"
   ]
  },
  {
   "cell_type": "code",
   "execution_count": null,
   "metadata": {},
   "outputs": [],
   "source": [
    "# Process validation images\n",
    "img_ids = val_df['image_id'].values\n",
    "steps = 4000\n",
    "for i in range(0, len(val_df), steps):\n",
    "    tmp_imgs = []\n",
    "    print('\\nProcess: {:10d}'.format(i))\n",
    "    \n",
    "    start = i\n",
    "    end = min(len(val_df), i + steps)\n",
    "    for idx in range(start, end):\n",
    "        if idx % 50 == 0:\n",
    "            print('=', end='')\n",
    "            \n",
    "        img_id = img_ids[idx]\n",
    "        path = './data/triplet/validation/' + str(img_id) + '.jpg'\n",
    "        img = load_img(path, target_size=img_size[:2])\n",
    "        img = img_to_array(img)\n",
    "        tmp_imgs.append(img)\n",
    "        \n",
    "    tmp_imgs = np.array(tmp_imgs, dtype=np.float32) / 255.0\n",
    "    tmp_prediction = base_model.predict(tmp_imgs)\n",
    "    val_imgs[start: end, ] = tmp_prediction\n",
    "    _ = gc.collect()"
   ]
  },
  {
   "cell_type": "code",
   "execution_count": null,
   "metadata": {},
   "outputs": [],
   "source": [
    "# Process test images\n",
    "img_ids = test_df['image_id'].values\n",
    "steps = 4000\n",
    "for i in range(0, len(test_df), steps):\n",
    "    tmp_imgs = []\n",
    "    print('\\nProcess: {:10d}'.format(i))\n",
    "    \n",
    "    start = i\n",
    "    end = min(len(test_df), i + steps)\n",
    "    for idx in range(start, end):\n",
    "        if idx % 50 == 0:\n",
    "            print('=', end='')\n",
    "            \n",
    "        img_id = img_ids[idx]\n",
    "        path = './data/triplet/test/' + str(img_id) + '.jpg'\n",
    "        img = load_img(path, target_size=img_size[:2])\n",
    "        img = img_to_array(img)\n",
    "        tmp_imgs.append(img)\n",
    "        \n",
    "    tmp_imgs = np.array(tmp_imgs, dtype=np.float32) / 255.0\n",
    "    tmp_prediction = base_model.predict(tmp_imgs)\n",
    "    test_imgs[start: end, ] = tmp_prediction\n",
    "    _ = gc.collect()"
   ]
  },
  {
   "cell_type": "code",
   "execution_count": null,
   "metadata": {},
   "outputs": [],
   "source": [
    "print('Train:\\t\\t', train_imgs.shape)\n",
    "print('Validation:\\t', val_imgs.shape)\n",
    "print('Test:\\t\\t', test_imgs.shape)"
   ]
  },
  {
   "cell_type": "code",
   "execution_count": null,
   "metadata": {},
   "outputs": [],
   "source": [
    "# Save to disk\n",
    "np.save('./data/triplet/train_triplet_features.npy', train_imgs)\n",
    "np.save('./data/triplet/validation_triplet_features.npy', val_imgs)\n",
    "np.save('./data/triplet/test_triplet_features.npy', test_imgs)"
   ]
  },
  {
   "cell_type": "code",
   "execution_count": null,
   "metadata": {},
   "outputs": [],
   "source": []
  }
 ],
 "metadata": {
  "kernelspec": {
   "display_name": "Environment (conda_tensorflow_p36)",
   "language": "python",
   "name": "conda_tensorflow_p36"
  },
  "language_info": {
   "codemirror_mode": {
    "name": "ipython",
    "version": 3
   },
   "file_extension": ".py",
   "mimetype": "text/x-python",
   "name": "python",
   "nbconvert_exporter": "python",
   "pygments_lexer": "ipython3",
   "version": "3.6.4"
  }
 },
 "nbformat": 4,
 "nbformat_minor": 2
}
